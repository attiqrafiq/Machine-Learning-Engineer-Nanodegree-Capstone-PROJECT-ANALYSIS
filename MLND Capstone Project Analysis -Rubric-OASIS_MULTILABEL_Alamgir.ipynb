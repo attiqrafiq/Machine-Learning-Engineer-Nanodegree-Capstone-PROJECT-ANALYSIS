{
 "cells": [
  {
   "cell_type": "markdown",
   "metadata": {},
   "source": [
    "## PROJECT SPECIFICATION\n",
    "### Machine Learning Capstone Project\n",
    "\n",
    "This capstone project involves machine learning modeling and analysis of clinical, demographic, and brain related derived anatomic measures from human MRI (magnetic resonance imaging) tests (http://www.oasis-brains.org/). The objectives of these measurements are to diagnose the level of Dementia in the individuals and the probability that these individuals may have Alzheimer's Disease (AD).\n",
    "\n",
    "In published studies, Machine Learning has been applied to Alzheimer’s/Dementia identification from MRI scans and related data in the academic papers/theses in References 10 and 11 listed in the References Section below.\n",
    "Recently, a close relative of mine had to undergo a sequence of MRI tests for cognition difficulties.The motivation for choosing this topic for the Capstone project arose from the desire to understand and analyze potential for Dementia and AD from MRI related data. This Capstone project does not use the MRI \"imaging\" data and does not focus on AD, focusses only on Dementia."
   ]
  },
  {
   "cell_type": "markdown",
   "metadata": {},
   "source": [
    "### Problem Statement\n",
    "*[The problem which needs to be solved is clearly defined. A strategy for solving the problem, including discussion of the expected solution, has been made.]*\n",
    "\n",
    "•\tCross-Sectional and longitudinal OASIS MRI structural and demographic data (clinical, demographic, and brain related derived anatomic measures) from human MRI (magnetic resonance imaging) tests (http://www.oasis-brains.org/) will be used to train a set of linear and non-linear machine learning classification models.\n",
    "\n",
    "•\tClinical Dementia Rating (CDR) values provided in the data set will be used as \"labels\" for training the classification models. [Clinical Dementia Ratings (CDR values:  0=nondemented; 0.5 = very mild dementia; 1 = mild dementia; 2 = moderate dementia)].\n",
    "\n",
    "•\tPandas will be used for data loading and Python scikit-learn library for modeling.\n",
    "\n",
    "•\tThe goal is to train machine learning models to predict whether the individuals in the cross-validation set (test set) have dementia (CDR>0), and if they do, the severity level of dementia (CDR values of 0.5, 1, and 2). The problem will be formulated both as a binary classification problem (CDR=0, and CDR>0), and multiclass classification problem (CDR values in the dataset: 0, 0.5, 1, and 2). In the binary classification formulation, the CDR>0 the values in the sliced dataset will be relabeled as CDR=1.\n",
    "\n",
    "•\tClassification Accuracy will be used as the primary metric. Additionally, for binary classification AUC/ROC values will be reported. For multi- class classification (multiple CDR labels) F-1 score will be reported. The results from the best model will be reported along with those from the other models.\n",
    "\n",
    "•\tAbout 80% of the data in the dataset will be used for training the models. About 20% of data will used prediction of the CDR label for the k-fold cross-validation with k=10. Sensitivity studies with proportion other than 80:20, e.g. 70:30, will be used to test sensitivity of this split on the accuracy.\n",
    "\n",
    "•\tThe base case uses a dataset that combines the cross-sectional and the longitudinal MRI datasets. This has the benefit of having a larger dataset. The cross-sectional and the longitudinal datasets will also be trained/cross-validated separately, and classification accuracy will be reported.\n",
    "\n",
    "•\tData cleaning (e.g. removal of NaN values), data exploration, data preparation, data visualization, and data preprocessing will be described, as appropriate, and the impact of the latter on prediction metrics will discussed.\n"
   ]
  },
  {
   "cell_type": "markdown",
   "metadata": {},
   "source": [
    "## References\n",
    "\n",
    "1.\tThe Open Access Series of Imaging Studies (OASIS), http://www.oasis-brains.org/app/template/Index.vm;jsessionid=6926BBF18A3D5CD974E750FAC8ED01CE\n",
    "\n",
    "2.\tOASIS Fact Sheet (rev. 2007-8-20) Cross-Sectional Data Across the Adult Lifespan, Marcus et al., 2007, http://www.oasis-brains.org/pdf/oasis_cross-sectional_facts.pdf\n",
    "\n",
    "3.\tMRI Reliability data across the adult lifespan, http://www.oasis- brains.org/app/action/BundleAction/bundle/OAS1_RELIABILITY\n",
    "\n",
    "4.\tBuckner, RL, Head, D, Parker, J, Fotenos, AF, Marcus, D, Morris, JC, Snyder, AZ, 2004, \"A unified approach for morphometric and functional data analysis in young, old, and demented adults using automated atlas-based head size normalization: reliability and validation against manual measurement of total intracranial volume\", Neuroimage 23, 724-38. \n",
    "\n",
    "5.\tFotenos, AF, Snyder, AZ, Girton, LE, Morris, JC, and Buckner, RL, 2005, \"Normative estimates of crosssectional and longitudinal brain volume decline in aging and AD\",  Neurology, 64: 1032-1039.\n",
    "\n",
    "6.\tMarcus, DS, Wang, TH, Parker, J, M, Csernansky, JG, Morris, JC, Buckner, RL, 2007. \"Open Access Series of Imaging Studies (OASIS): Cross-Sectional MRI Data in Young, Middle Aged, Nondemented and Demented Older Adults\", Journal of Cognitive Neuroscience, 19, 1498-1507.\n",
    "\n",
    "7.\tMorris, JC, 1993. \"The Clinical Dementia Rating (CDR): current version and scoring rules\",  Neurology 43, 2412b-2414b.\n",
    "\n",
    "8.\tRubin, EH, Storandt, M, Miller, JP, Kinscherf, DA, Grant, EA, Morris, JC, Berg, L, \"A prospective study of cognitive function and onset of dementia in cognitively healthy elders\". Arch Neurol. 55, 395- 401.\n",
    "\n",
    "9.\tZhang, Y, Brady, M, Smith, S, \"Segmentation of brain MR images through a hidden Markov random field model and the expectation maximization algorithm\". IEEE Trans. on Medical Imaging, 20(1):45-57.\n",
    "\n",
    "10.\t\"Diagnosis of Alzheimer’s Disease Based on Structural MRI Images Using a Regularized Extreme Learning Machine and PCA Feature\",  https://www.hindawi.com/journals/jhe/2017/5485080/\n",
    "\n",
    "11.\t\"Use of Machine Learning Technology in the Diagnosis of Alzheimer’s Disease\", http://doras.dcu.ie/21356/1/Noel_s_Master_s_thesis__Copy_(1).pdf\n",
    "\n",
    "12.\tScikit-learn, http://scikit-learn.org/stable/index.html\n",
    "\n",
    "13. Model evaluation: quantifying the quality of predictions,  http://scikit-learn.org/stable/modules/model_evaluation.html).\n",
    "\n",
    "14.\t Precision and Recall, http://scikit-learn.org/stable/auto_examples/model_selection/plot_precision_recall.html#sphx-glr-auto-examples-model-selection-plot-precision-recall-py\n",
    "\n",
    "15.\tConfusion Matrix, http://scikit-learn.org/stable/modules/model_evaluation.html#confusion-matrix\n",
    "\n",
    "16.\tSupport,  http://scikit-learn.org/stable/modules/generated/sklearn.metrics.precision_recall_fscore_support.html\n",
    "\n",
    "17.\tF1-score, http://scikit-learn.org/stable/modules/generated/sklearn.metrics.f1_score.html\n",
    "\n",
    "18.\t\"Conditional data slicing in a Pandas dataframe\", https://stackoverflow.com/questions/17071871/select-rows-from-a-dataframe-based-on-values-in-a-column-in-pandas\n",
    "\n",
    "19. \"Matplotlib colormap examples and color schemes for using in heatmap\",  http://pyhogs.github.io/colormap-examples.html; https://matplotlib.org/examples/color/colormaps_reference.html\n",
    "\n",
    "20. \"Usefulness of data from magnetic resonance imaging to improve prediction of dementia: population based cohort study\" http://www.bmj.com/content/350/bmj.h2863\n",
    "\n",
    "21. C - Statistics: http://www.statisticshowto.com/c-statistic/\n",
    "\n",
    "22. The Use of MRI and PET for Clinical Diagnosis of Dementia and Investigation of Cognitive Impairment: A Consensus Report https://www.alz.org/national/documents/imaging_consensus_report.pdf\n",
    "\n",
    "23. Knopman DS, DeKosky ST, Cummings JL, Chui H, Corey-Bloom J, Relkin N, et al. Practice parameter: Diagnosis of dementia  (anevidence-based review). Report of the Quality Standards Subcommittee of the American Academy of Neurology. Neurology 2001;56(9):1143–1153.\n",
    "\n",
    "24. Machine Learning Mastery,  https://machinelearningmastery.com/\n",
    "\n",
    "25. \"The Role of Balanced Training and Testing Data Sets for Binary Classifiers in Bioinformatics\", https://www.ncbi.nlm.nih.gov/pmc/articles/PMC3706434/\n",
    "\n",
    "26. \"8 Proven Ways for improving the “Accuracy” of a Machine Learning Model\", https://www.analyticsvidhya.com/blog/2015/12/improve-machine-learning-results/\n",
    "\n",
    "27.\t“A Gentle Introduction to the Gradient Boosting Algorithm for Machine Learning”, https://machinelearningmastery.com/gentle-introduction-gradient-boosting-algorithm-machine-learning/\n",
    "\n",
    "28. \"Gradient Boosting Tree vs. Random Forest\", https://stats.stackexchange.com/questions/173390/gradient-boosting-tree-vs-random-forest\n"
   ]
  },
  {
   "cell_type": "markdown",
   "metadata": {},
   "source": [
    "## Metrics\n",
    "\n",
    "*[Metrics used to measure performance of a model or result are clearly defined. Metrics are justified based on the characteristics of the problem.]\n",
    "\n",
    "Classification Accuracy is used as the primary metric. This metric is applicable for binary classification where the number of records for the two labels are balanced. As shown later in this notebook, the ratio of the number of processed records with CDR=0 and CDR=1 is 60% to 40%, and is considered balanced. Classification accuracy is defined as the number of records correctly classified divided by the total number of records classified. Additionally, for binary classification here, AUC/ROC values are reported.  Accuracy results are also be reported in sklearn Confusion Matrix format to evaluate classifier output quality, and in Classification Report format (provides, precision, recall, and f1-score) which are quite appropriate for the dataset used to train models for CDR classification. References 13 through 17 have details and discussion of these sklearn metrics. "
   ]
  },
  {
   "cell_type": "markdown",
   "metadata": {},
   "source": [
    "### Benchmark\n",
    "[Student clearly defines a benchmark result or threshold for comparing performances of solutions obtained.\\\n",
    "\n",
    "###### My primandary benchmark is a neural network model (Appendix 1) based on the same data discussed above and as used in this problem:  Keras is used as the frontend  with tensorflow backend. My secondary benchmark will be results of the study in the two papers below:\n",
    "\n",
    "** Paper title: Usefulness of data from magnetic resonance imaging to improve prediction of dementia: population based cohort study, Reference 20\n",
    "\n",
    "\"Results During 10 years of follow-up, there were 119 confirmed cases of dementia, 84 of which were Alzheimer’s disease. The conventional risk model incorporated age, sex, education, cognition, physical function, lifestyle (smoking, alcohol use), health (cardiovascular disease, diabetes, systolic blood pressure), and the apolipoprotein genotype (C statistic for discrimination performance was 0.77, 95% confidence interval 0.71 to 0.82). No significant differences were observed in the discrimination performance of the conventional risk model compared with models incorporating data from MRI including white matter lesion volume (C statistic 0.77, 95% confidence interval 0.72 to 0.82; P=0.48 for difference of C statistics, Reference 21), brain volume (0.77, 0.72 to 0.82; P=0.60), hippocampal volume (0.79, 0.74 to 0.84; P=0.07), or all three variables combined (0.79, 0.75 to 0.84; P=0.05). Inclusion of hippocampal volume or all three MRI variables combined in the conventional model did, however, lead to significant improvement in reclassification measured by using the integrated discrimination improvement index (P=0.03 and P=0.04) and showed increased net benefit in decision curve analysis. Similar results were observed when the outcome was restricted to Alzheimer’s disease.\"\n",
    "\n",
    "**Paper Title: The Use of MRI and PET for Clinical Diagnosis of Dementia and Investigation of Cognitive Impairment: A Consensus Report, Reference 22.\n",
    "\n",
    "\"Once the presence of dementia has been established, the role of imaging in the diagnosis of dementia subtypes is very much a function of the clinical diagnosis. The accuracy of the clinical diagnosis of Alzheimer’s disease (AD) is quite good. Pathological AD has a prevalence of about 70% (range 50% to above 80% depending upon whether the AD occurs in isolation or with other entities) among all dementias (see evidence Table 1 in Reference 23 ); thus, even clinicians with limited neurological expertise should have a diagnostic accuracy, for AD at least, at about that level. A review of 13 published studies gave average values for sensitivity and specificity of the clinical diagnosis of AD of 81% and 70%, respectively(Reference 23). The overall accuracy of the clinical diagnosis of AD versus not-AD compared with the neuropathological standard based on those values for prevalence, sensitivity, and specificity, is 78%. \""
   ]
  },
  {
   "cell_type": "markdown",
   "metadata": {},
   "source": [
    "## Datasets and Inputs\n",
    "Reference 1 provides the downloadable MRI related data in csv format. Reference 2 provides metadata and additional facts about the cross-sectional MRI. \n",
    "**OASIS Cross-sectional MRI Data in Young, Middle Aged, Non-demented and Demented Older Adults**\n",
    "\n",
    "•\tThis dataset consists of a cross-sectional collection for 416 persons aged 18 to 96\n",
    "\n",
    "•\tFor each person, 3 to 4 T1-weighted MRI scans that were obtained in single scan sessions are included.\n",
    "\n",
    "•\tThe persons include both men and women, and are all right-handed.\n",
    "\n",
    "•\tIn this dataset, one hundred persons over the age of 60 have been clinically diagnosed with very mild to moderate Alzheimer’s disease (AD).\n",
    "\n",
    "•\tAlso, a reliability data set , Reference 3,  is included which contains 20 non-demented subjects imaged on a subsequent visit within 90 days of their initial session.\n",
    "\n",
    "•\tDementia related Additional Data below for the cross-sectional MRI cases used this project. Features based on these Additional Data will be used to train classification models to predict the labels for the outcome (CDR).\n",
    "\n",
    "\n",
    "**OASIS: Longitudinal MRI Data in Non-demented and Demented Older Adults**\n",
    "\n",
    "This set consists of a longitudinal collection of 150 subjects aged 60 to 96. Each subject was scanned on two or more visits, separated by at least one year for a total of 373 imaging sessions. For each subject, 3 or 4 individual T1-weighted MRI scans obtained in single scan sessions are included.\n",
    "\n",
    "**Note: MRI image pixel data are NOT used in this problem, only related features prefixed with @ sign (below) will be used.**\n",
    "\n",
    "•\tThe subjects are all right-handed and include both men and women. \n",
    "\n",
    "•\t72 of the subjects were characterized as non-demented throughout the study. \n",
    "\n",
    "•\t64 of the included subjects were characterized as demented at the time of their initial visits and remained so for subsequent scans, including 51 individuals with mild to moderate Alzheimer’s disease. \n",
    "\n",
    "•\tAnother 14 subjects were characterized as non-demented at the time of their initial visit and were subsequently characterized as demented at a later visit.\n",
    "\n",
    "•\tDementia related **Additional Data** below for the longitudinal MRI cases are used this project. \n",
    "\n",
    "Features based on the **Additional Data** are relevant to finding machine learning solutions to the problem defined above, and will be used to train classification models to predict the labels for the outcome (Critical Dementia Rating, CDR).\n",
    "\n",
    "**Additional Data**: Specific References in parentheses below covering features are from Reference 2. These features include Demographic, clinical, and derived anatomic measures related to brain that are located in the file oasis_crosssectional.csv. Features prefixed with @ will be used for the problem.\n",
    "\n",
    "**Demographic data**:\n",
    "\n",
    "    - @Gender (M/F), categorical data\n",
    "    - Handedness (Right or Left Handed), categorical data, all of which are right handed in the dataset.\n",
    "    - @Age (numeric), \n",
    "    - @Education (Educ, categorical). Education codes correspond to the following levels of education: \n",
    "        1=Less than high school graduate.\n",
    "        2=High school graduate.\n",
    "        3=Some college education\n",
    "        4=College graduate. \n",
    "        5=Beyond college.\n",
    "**Clinical data**:\n",
    "\n",
    "    - @Mini-Mental State Examination (MMSE, Reference 8),\n",
    "    \n",
    "    - @Clinical Dementia Rating (CDR, Reference 7)\n",
    "         0 = non-demented (341 data points)\n",
    "         0.5 = very mild dementia (193 data points)\n",
    "         1 = mild dementia (69 data points)\n",
    "         2 = moderate dementia (5 data points)\n",
    "\n",
    "There are some records with NaN values in one or more fields; these records will be removed from datasets prior to analysis.  All participants with dementia (CDR >0) were diagnosed with probable Alzheimer’s Disease.\n",
    "\n",
    "**Derived anatomic volumes data**:\n",
    "    - @Estimated total intracranial volume (eTIV, mm3), Reference 4\n",
    "    - @Atlas scaling factor (ASF), Reference 4 \n",
    "    - @Normalized whole brain volume (nWBV, mm3), Reference 5\t\n"
   ]
  },
  {
   "cell_type": "markdown",
   "metadata": {},
   "source": [
    "### Load Libraries"
   ]
  },
  {
   "cell_type": "code",
   "execution_count": 1,
   "metadata": {
    "collapsed": true
   },
   "outputs": [],
   "source": [
    "# Load libraries\n",
    "import numpy as np\n",
    "from pandas import read_csv\n",
    "from pandas.tools.plotting import scatter_matrix\n",
    "from matplotlib import pyplot\n",
    "from sklearn.model_selection import train_test_split\n",
    "from sklearn.model_selection import KFold\n",
    "from sklearn.model_selection import cross_val_score\n",
    "from sklearn.metrics import classification_report\n",
    "from sklearn.metrics import confusion_matrix\n",
    "from sklearn.metrics import accuracy_score\n",
    "from sklearn.linear_model import LogisticRegression\n",
    "from sklearn.tree import DecisionTreeClassifier\n",
    "from sklearn.neighbors import KNeighborsClassifier\n",
    "from sklearn.discriminant_analysis import LinearDiscriminantAnalysis\n",
    "from sklearn.naive_bayes import GaussianNB\n",
    "from sklearn.svm import SVC\n",
    "from sklearn.ensemble import GradientBoostingClassifier\n",
    "from sklearn.ensemble import RandomForestClassifier"
   ]
  },
  {
   "cell_type": "markdown",
   "metadata": {},
   "source": [
    "### Load CSV data to Pandas Dataframes"
   ]
  },
  {
   "cell_type": "code",
   "execution_count": 2,
   "metadata": {},
   "outputs": [
    {
     "data": {
      "text/plain": [
       "(436, 12)"
      ]
     },
     "execution_count": 2,
     "metadata": {},
     "output_type": "execute_result"
    }
   ],
   "source": [
    "# Read a local csvfile in Pandas for the OASIS cross-sectional MRI dataset downloaded from OASIS web site (Reference 1)\n",
    "import pandas as pd\n",
    "dfoasx=pd.read_csv('oasis_cross-sectional.csv')\n",
    "dfoasx.shape"
   ]
  },
  {
   "cell_type": "markdown",
   "metadata": {},
   "source": [
    "436 rows and 12 columns of data"
   ]
  },
  {
   "cell_type": "code",
   "execution_count": 3,
   "metadata": {},
   "outputs": [
    {
     "data": {
      "text/plain": [
       "(373, 15)"
      ]
     },
     "execution_count": 3,
     "metadata": {},
     "output_type": "execute_result"
    }
   ],
   "source": [
    "# Read a csvfile in Pandas for the OASIS longitudinal MRI dataset downloaded from the OASIS web site (Reference 1)\n",
    "import pandas as pd\n",
    "dfoasl=pd.read_csv('oasis_longitudinal.csv')\n",
    "dfoasl.shape"
   ]
  },
  {
   "cell_type": "markdown",
   "metadata": {
    "collapsed": true
   },
   "source": [
    "373 rows and 15 columns of data."
   ]
  },
  {
   "cell_type": "markdown",
   "metadata": {},
   "source": [
    "## Analysis"
   ]
  },
  {
   "cell_type": "markdown",
   "metadata": {},
   "source": [
    "### Data Exploration\n",
    "[If a dataset is present, features and calculated statistics relevant to the problem have been reported and discussed, along with a sampling of the data. In lieu of a dataset, a thorough description of the input space or input data has been made. Abnormalities or characteristics about the data or input that need to be addressed have been identified.]\n",
    "\n",
    "- Dataset shape (rows, columns)\n",
    "- Column headings\n",
    "- Data Summary and statistics\n",
    "- Data Types\n",
    "- "
   ]
  },
  {
   "cell_type": "markdown",
   "metadata": {},
   "source": [
    "##### OASIS Cross-sectional Data Exploration"
   ]
  },
  {
   "cell_type": "code",
   "execution_count": 4,
   "metadata": {},
   "outputs": [
    {
     "data": {
      "text/plain": [
       "['ID',\n",
       " 'M/F',\n",
       " 'Hand',\n",
       " 'Age',\n",
       " 'Educ',\n",
       " 'SES',\n",
       " 'MMSE',\n",
       " 'CDR',\n",
       " 'eTIV',\n",
       " 'nWBV',\n",
       " 'ASF',\n",
       " 'Delay']"
      ]
     },
     "execution_count": 4,
     "metadata": {},
     "output_type": "execute_result"
    }
   ],
   "source": [
    "list(dfoasx.columns.values)"
   ]
  },
  {
   "cell_type": "code",
   "execution_count": 5,
   "metadata": {},
   "outputs": [
    {
     "data": {
      "text/html": [
       "<div>\n",
       "<table border=\"1\" class=\"dataframe\">\n",
       "  <thead>\n",
       "    <tr style=\"text-align: right;\">\n",
       "      <th></th>\n",
       "      <th>Age</th>\n",
       "      <th>Educ</th>\n",
       "      <th>SES</th>\n",
       "      <th>MMSE</th>\n",
       "      <th>CDR</th>\n",
       "      <th>eTIV</th>\n",
       "      <th>nWBV</th>\n",
       "      <th>ASF</th>\n",
       "      <th>Delay</th>\n",
       "    </tr>\n",
       "  </thead>\n",
       "  <tbody>\n",
       "    <tr>\n",
       "      <th>count</th>\n",
       "      <td>436.000000</td>\n",
       "      <td>235.000000</td>\n",
       "      <td>216.000000</td>\n",
       "      <td>235.00000</td>\n",
       "      <td>235.000000</td>\n",
       "      <td>436.000000</td>\n",
       "      <td>436.000000</td>\n",
       "      <td>436.000000</td>\n",
       "      <td>20.00000</td>\n",
       "    </tr>\n",
       "    <tr>\n",
       "      <th>mean</th>\n",
       "      <td>51.357798</td>\n",
       "      <td>3.178723</td>\n",
       "      <td>2.490741</td>\n",
       "      <td>27.06383</td>\n",
       "      <td>0.285106</td>\n",
       "      <td>1481.919725</td>\n",
       "      <td>0.791670</td>\n",
       "      <td>1.198894</td>\n",
       "      <td>20.55000</td>\n",
       "    </tr>\n",
       "    <tr>\n",
       "      <th>std</th>\n",
       "      <td>25.269862</td>\n",
       "      <td>1.311510</td>\n",
       "      <td>1.120593</td>\n",
       "      <td>3.69687</td>\n",
       "      <td>0.383405</td>\n",
       "      <td>158.740866</td>\n",
       "      <td>0.059937</td>\n",
       "      <td>0.128682</td>\n",
       "      <td>23.86249</td>\n",
       "    </tr>\n",
       "    <tr>\n",
       "      <th>min</th>\n",
       "      <td>18.000000</td>\n",
       "      <td>1.000000</td>\n",
       "      <td>1.000000</td>\n",
       "      <td>14.00000</td>\n",
       "      <td>0.000000</td>\n",
       "      <td>1123.000000</td>\n",
       "      <td>0.644000</td>\n",
       "      <td>0.881000</td>\n",
       "      <td>1.00000</td>\n",
       "    </tr>\n",
       "    <tr>\n",
       "      <th>25%</th>\n",
       "      <td>23.000000</td>\n",
       "      <td>2.000000</td>\n",
       "      <td>2.000000</td>\n",
       "      <td>26.00000</td>\n",
       "      <td>0.000000</td>\n",
       "      <td>1367.750000</td>\n",
       "      <td>0.742750</td>\n",
       "      <td>1.111750</td>\n",
       "      <td>2.75000</td>\n",
       "    </tr>\n",
       "    <tr>\n",
       "      <th>50%</th>\n",
       "      <td>54.000000</td>\n",
       "      <td>3.000000</td>\n",
       "      <td>2.000000</td>\n",
       "      <td>29.00000</td>\n",
       "      <td>0.000000</td>\n",
       "      <td>1475.500000</td>\n",
       "      <td>0.809000</td>\n",
       "      <td>1.190000</td>\n",
       "      <td>11.00000</td>\n",
       "    </tr>\n",
       "    <tr>\n",
       "      <th>75%</th>\n",
       "      <td>74.000000</td>\n",
       "      <td>4.000000</td>\n",
       "      <td>3.000000</td>\n",
       "      <td>30.00000</td>\n",
       "      <td>0.500000</td>\n",
       "      <td>1579.250000</td>\n",
       "      <td>0.842000</td>\n",
       "      <td>1.284250</td>\n",
       "      <td>30.75000</td>\n",
       "    </tr>\n",
       "    <tr>\n",
       "      <th>max</th>\n",
       "      <td>96.000000</td>\n",
       "      <td>5.000000</td>\n",
       "      <td>5.000000</td>\n",
       "      <td>30.00000</td>\n",
       "      <td>2.000000</td>\n",
       "      <td>1992.000000</td>\n",
       "      <td>0.893000</td>\n",
       "      <td>1.563000</td>\n",
       "      <td>89.00000</td>\n",
       "    </tr>\n",
       "  </tbody>\n",
       "</table>\n",
       "</div>"
      ],
      "text/plain": [
       "              Age        Educ         SES       MMSE         CDR         eTIV  \\\n",
       "count  436.000000  235.000000  216.000000  235.00000  235.000000   436.000000   \n",
       "mean    51.357798    3.178723    2.490741   27.06383    0.285106  1481.919725   \n",
       "std     25.269862    1.311510    1.120593    3.69687    0.383405   158.740866   \n",
       "min     18.000000    1.000000    1.000000   14.00000    0.000000  1123.000000   \n",
       "25%     23.000000    2.000000    2.000000   26.00000    0.000000  1367.750000   \n",
       "50%     54.000000    3.000000    2.000000   29.00000    0.000000  1475.500000   \n",
       "75%     74.000000    4.000000    3.000000   30.00000    0.500000  1579.250000   \n",
       "max     96.000000    5.000000    5.000000   30.00000    2.000000  1992.000000   \n",
       "\n",
       "             nWBV         ASF     Delay  \n",
       "count  436.000000  436.000000  20.00000  \n",
       "mean     0.791670    1.198894  20.55000  \n",
       "std      0.059937    0.128682  23.86249  \n",
       "min      0.644000    0.881000   1.00000  \n",
       "25%      0.742750    1.111750   2.75000  \n",
       "50%      0.809000    1.190000  11.00000  \n",
       "75%      0.842000    1.284250  30.75000  \n",
       "max      0.893000    1.563000  89.00000  "
      ]
     },
     "execution_count": 5,
     "metadata": {},
     "output_type": "execute_result"
    }
   ],
   "source": [
    "dfoasx.describe()"
   ]
  },
  {
   "cell_type": "code",
   "execution_count": 6,
   "metadata": {},
   "outputs": [
    {
     "name": "stdout",
     "output_type": "stream",
     "text": [
      "<class 'pandas.core.frame.DataFrame'>\n",
      "RangeIndex: 436 entries, 0 to 435\n",
      "Data columns (total 12 columns):\n",
      "ID       436 non-null object\n",
      "M/F      436 non-null object\n",
      "Hand     436 non-null object\n",
      "Age      436 non-null int64\n",
      "Educ     235 non-null float64\n",
      "SES      216 non-null float64\n",
      "MMSE     235 non-null float64\n",
      "CDR      235 non-null float64\n",
      "eTIV     436 non-null int64\n",
      "nWBV     436 non-null float64\n",
      "ASF      436 non-null float64\n",
      "Delay    20 non-null float64\n",
      "dtypes: float64(7), int64(2), object(3)\n",
      "memory usage: 41.0+ KB\n"
     ]
    }
   ],
   "source": [
    "dfoasx.info()"
   ]
  },
  {
   "cell_type": "code",
   "execution_count": 7,
   "metadata": {},
   "outputs": [
    {
     "data": {
      "text/html": [
       "<div>\n",
       "<table border=\"1\" class=\"dataframe\">\n",
       "  <thead>\n",
       "    <tr style=\"text-align: right;\">\n",
       "      <th></th>\n",
       "      <th>ID</th>\n",
       "      <th>M/F</th>\n",
       "      <th>Hand</th>\n",
       "      <th>Age</th>\n",
       "      <th>Educ</th>\n",
       "      <th>SES</th>\n",
       "      <th>MMSE</th>\n",
       "      <th>CDR</th>\n",
       "      <th>eTIV</th>\n",
       "      <th>nWBV</th>\n",
       "      <th>ASF</th>\n",
       "      <th>Delay</th>\n",
       "    </tr>\n",
       "  </thead>\n",
       "  <tbody>\n",
       "    <tr>\n",
       "      <th>0</th>\n",
       "      <td>OAS1_0001_MR1</td>\n",
       "      <td>F</td>\n",
       "      <td>R</td>\n",
       "      <td>74</td>\n",
       "      <td>2.0</td>\n",
       "      <td>3.0</td>\n",
       "      <td>29.0</td>\n",
       "      <td>0.0</td>\n",
       "      <td>1344</td>\n",
       "      <td>0.743</td>\n",
       "      <td>1.306</td>\n",
       "      <td>NaN</td>\n",
       "    </tr>\n",
       "    <tr>\n",
       "      <th>1</th>\n",
       "      <td>OAS1_0002_MR1</td>\n",
       "      <td>F</td>\n",
       "      <td>R</td>\n",
       "      <td>55</td>\n",
       "      <td>4.0</td>\n",
       "      <td>1.0</td>\n",
       "      <td>29.0</td>\n",
       "      <td>0.0</td>\n",
       "      <td>1147</td>\n",
       "      <td>0.810</td>\n",
       "      <td>1.531</td>\n",
       "      <td>NaN</td>\n",
       "    </tr>\n",
       "    <tr>\n",
       "      <th>2</th>\n",
       "      <td>OAS1_0003_MR1</td>\n",
       "      <td>F</td>\n",
       "      <td>R</td>\n",
       "      <td>73</td>\n",
       "      <td>4.0</td>\n",
       "      <td>3.0</td>\n",
       "      <td>27.0</td>\n",
       "      <td>0.5</td>\n",
       "      <td>1454</td>\n",
       "      <td>0.708</td>\n",
       "      <td>1.207</td>\n",
       "      <td>NaN</td>\n",
       "    </tr>\n",
       "    <tr>\n",
       "      <th>3</th>\n",
       "      <td>OAS1_0004_MR1</td>\n",
       "      <td>M</td>\n",
       "      <td>R</td>\n",
       "      <td>28</td>\n",
       "      <td>NaN</td>\n",
       "      <td>NaN</td>\n",
       "      <td>NaN</td>\n",
       "      <td>NaN</td>\n",
       "      <td>1588</td>\n",
       "      <td>0.803</td>\n",
       "      <td>1.105</td>\n",
       "      <td>NaN</td>\n",
       "    </tr>\n",
       "    <tr>\n",
       "      <th>4</th>\n",
       "      <td>OAS1_0005_MR1</td>\n",
       "      <td>M</td>\n",
       "      <td>R</td>\n",
       "      <td>18</td>\n",
       "      <td>NaN</td>\n",
       "      <td>NaN</td>\n",
       "      <td>NaN</td>\n",
       "      <td>NaN</td>\n",
       "      <td>1737</td>\n",
       "      <td>0.848</td>\n",
       "      <td>1.010</td>\n",
       "      <td>NaN</td>\n",
       "    </tr>\n",
       "  </tbody>\n",
       "</table>\n",
       "</div>"
      ],
      "text/plain": [
       "              ID M/F Hand  Age  Educ  SES  MMSE  CDR  eTIV   nWBV    ASF  \\\n",
       "0  OAS1_0001_MR1   F    R   74   2.0  3.0  29.0  0.0  1344  0.743  1.306   \n",
       "1  OAS1_0002_MR1   F    R   55   4.0  1.0  29.0  0.0  1147  0.810  1.531   \n",
       "2  OAS1_0003_MR1   F    R   73   4.0  3.0  27.0  0.5  1454  0.708  1.207   \n",
       "3  OAS1_0004_MR1   M    R   28   NaN  NaN   NaN  NaN  1588  0.803  1.105   \n",
       "4  OAS1_0005_MR1   M    R   18   NaN  NaN   NaN  NaN  1737  0.848  1.010   \n",
       "\n",
       "   Delay  \n",
       "0    NaN  \n",
       "1    NaN  \n",
       "2    NaN  \n",
       "3    NaN  \n",
       "4    NaN  "
      ]
     },
     "execution_count": 7,
     "metadata": {},
     "output_type": "execute_result"
    }
   ],
   "source": [
    "dfoasx.head(5)"
   ]
  },
  {
   "cell_type": "markdown",
   "metadata": {},
   "source": [
    "Cross-sectional MRI dataset has many rows with NaN values in multiple columns. These NaN values will be removed after merging the dataset with the Longitudinal MRI dataset."
   ]
  },
  {
   "cell_type": "code",
   "execution_count": 8,
   "metadata": {},
   "outputs": [
    {
     "name": "stdout",
     "output_type": "stream",
     "text": [
      "ID        object\n",
      "M/F       object\n",
      "Hand      object\n",
      "Age        int64\n",
      "Educ     float64\n",
      "SES      float64\n",
      "MMSE     float64\n",
      "CDR      float64\n",
      "eTIV       int64\n",
      "nWBV     float64\n",
      "ASF      float64\n",
      "Delay    float64\n",
      "dtype: object\n"
     ]
    }
   ],
   "source": [
    "typesx=dfoasx.dtypes\n",
    "print(typesx)"
   ]
  },
  {
   "cell_type": "markdown",
   "metadata": {},
   "source": [
    "##### OASIS Longitudinal Data Exploration"
   ]
  },
  {
   "cell_type": "code",
   "execution_count": 9,
   "metadata": {},
   "outputs": [
    {
     "name": "stdout",
     "output_type": "stream",
     "text": [
      "135 , 70\n",
      "28 , 2\n"
     ]
    }
   ],
   "source": [
    "# Determine the count of various values for the label CDR\n",
    "print (dfoasx.CDR[(dfoasx.CDR == 0.0)].count(),\",\", dfoasx.CDR[(dfoasx.CDR == 0.5)].count())\n",
    "print (dfoasx.CDR[(dfoasx.CDR == 1.0)].count(),\",\", dfoasx.CDR[(dfoasx.CDR == 2)].count())\n"
   ]
  },
  {
   "cell_type": "code",
   "execution_count": null,
   "metadata": {
    "collapsed": true
   },
   "outputs": [],
   "source": []
  },
  {
   "cell_type": "code",
   "execution_count": 10,
   "metadata": {},
   "outputs": [
    {
     "data": {
      "text/plain": [
       "201"
      ]
     },
     "execution_count": 10,
     "metadata": {},
     "output_type": "execute_result"
    }
   ],
   "source": [
    "import pandas as pd\n",
    "## dfoasx cross-sectional MRI data frame \n",
    "## CDR is name of column for which you want to calculate the NaN values\n",
    "sum(pd.isnull(dfoasx['CDR']))"
   ]
  },
  {
   "cell_type": "markdown",
   "metadata": {},
   "source": [
    "##### OASIS Longitudinal Data Exploration¶"
   ]
  },
  {
   "cell_type": "code",
   "execution_count": 11,
   "metadata": {},
   "outputs": [
    {
     "data": {
      "text/plain": [
       "['Subject ID',\n",
       " 'MRI ID',\n",
       " 'Group',\n",
       " 'Visit',\n",
       " 'MR Delay',\n",
       " 'M/F',\n",
       " 'Hand',\n",
       " 'Age',\n",
       " 'EDUC',\n",
       " 'SES',\n",
       " 'MMSE',\n",
       " 'CDR',\n",
       " 'eTIV',\n",
       " 'nWBV',\n",
       " 'ASF']"
      ]
     },
     "execution_count": 11,
     "metadata": {},
     "output_type": "execute_result"
    }
   ],
   "source": [
    "list(dfoasl.columns.values)"
   ]
  },
  {
   "cell_type": "code",
   "execution_count": 12,
   "metadata": {},
   "outputs": [
    {
     "data": {
      "text/html": [
       "<div>\n",
       "<table border=\"1\" class=\"dataframe\">\n",
       "  <thead>\n",
       "    <tr style=\"text-align: right;\">\n",
       "      <th></th>\n",
       "      <th>Visit</th>\n",
       "      <th>MR Delay</th>\n",
       "      <th>Age</th>\n",
       "      <th>EDUC</th>\n",
       "      <th>SES</th>\n",
       "      <th>MMSE</th>\n",
       "      <th>CDR</th>\n",
       "      <th>eTIV</th>\n",
       "      <th>nWBV</th>\n",
       "      <th>ASF</th>\n",
       "    </tr>\n",
       "  </thead>\n",
       "  <tbody>\n",
       "    <tr>\n",
       "      <th>count</th>\n",
       "      <td>373.000000</td>\n",
       "      <td>373.000000</td>\n",
       "      <td>373.000000</td>\n",
       "      <td>373.000000</td>\n",
       "      <td>354.000000</td>\n",
       "      <td>371.000000</td>\n",
       "      <td>373.000000</td>\n",
       "      <td>373.000000</td>\n",
       "      <td>373.000000</td>\n",
       "      <td>373.000000</td>\n",
       "    </tr>\n",
       "    <tr>\n",
       "      <th>mean</th>\n",
       "      <td>1.882038</td>\n",
       "      <td>595.104558</td>\n",
       "      <td>77.013405</td>\n",
       "      <td>14.597855</td>\n",
       "      <td>2.460452</td>\n",
       "      <td>27.342318</td>\n",
       "      <td>0.290885</td>\n",
       "      <td>1488.128686</td>\n",
       "      <td>0.729568</td>\n",
       "      <td>1.195461</td>\n",
       "    </tr>\n",
       "    <tr>\n",
       "      <th>std</th>\n",
       "      <td>0.922843</td>\n",
       "      <td>635.485118</td>\n",
       "      <td>7.640957</td>\n",
       "      <td>2.876339</td>\n",
       "      <td>1.134005</td>\n",
       "      <td>3.683244</td>\n",
       "      <td>0.374557</td>\n",
       "      <td>176.139286</td>\n",
       "      <td>0.037135</td>\n",
       "      <td>0.138092</td>\n",
       "    </tr>\n",
       "    <tr>\n",
       "      <th>min</th>\n",
       "      <td>1.000000</td>\n",
       "      <td>0.000000</td>\n",
       "      <td>60.000000</td>\n",
       "      <td>6.000000</td>\n",
       "      <td>1.000000</td>\n",
       "      <td>4.000000</td>\n",
       "      <td>0.000000</td>\n",
       "      <td>1106.000000</td>\n",
       "      <td>0.644000</td>\n",
       "      <td>0.876000</td>\n",
       "    </tr>\n",
       "    <tr>\n",
       "      <th>25%</th>\n",
       "      <td>1.000000</td>\n",
       "      <td>0.000000</td>\n",
       "      <td>71.000000</td>\n",
       "      <td>12.000000</td>\n",
       "      <td>2.000000</td>\n",
       "      <td>27.000000</td>\n",
       "      <td>0.000000</td>\n",
       "      <td>1357.000000</td>\n",
       "      <td>0.700000</td>\n",
       "      <td>1.099000</td>\n",
       "    </tr>\n",
       "    <tr>\n",
       "      <th>50%</th>\n",
       "      <td>2.000000</td>\n",
       "      <td>552.000000</td>\n",
       "      <td>77.000000</td>\n",
       "      <td>15.000000</td>\n",
       "      <td>2.000000</td>\n",
       "      <td>29.000000</td>\n",
       "      <td>0.000000</td>\n",
       "      <td>1470.000000</td>\n",
       "      <td>0.729000</td>\n",
       "      <td>1.194000</td>\n",
       "    </tr>\n",
       "    <tr>\n",
       "      <th>75%</th>\n",
       "      <td>2.000000</td>\n",
       "      <td>873.000000</td>\n",
       "      <td>82.000000</td>\n",
       "      <td>16.000000</td>\n",
       "      <td>3.000000</td>\n",
       "      <td>30.000000</td>\n",
       "      <td>0.500000</td>\n",
       "      <td>1597.000000</td>\n",
       "      <td>0.756000</td>\n",
       "      <td>1.293000</td>\n",
       "    </tr>\n",
       "    <tr>\n",
       "      <th>max</th>\n",
       "      <td>5.000000</td>\n",
       "      <td>2639.000000</td>\n",
       "      <td>98.000000</td>\n",
       "      <td>23.000000</td>\n",
       "      <td>5.000000</td>\n",
       "      <td>30.000000</td>\n",
       "      <td>2.000000</td>\n",
       "      <td>2004.000000</td>\n",
       "      <td>0.837000</td>\n",
       "      <td>1.587000</td>\n",
       "    </tr>\n",
       "  </tbody>\n",
       "</table>\n",
       "</div>"
      ],
      "text/plain": [
       "            Visit     MR Delay         Age        EDUC         SES  \\\n",
       "count  373.000000   373.000000  373.000000  373.000000  354.000000   \n",
       "mean     1.882038   595.104558   77.013405   14.597855    2.460452   \n",
       "std      0.922843   635.485118    7.640957    2.876339    1.134005   \n",
       "min      1.000000     0.000000   60.000000    6.000000    1.000000   \n",
       "25%      1.000000     0.000000   71.000000   12.000000    2.000000   \n",
       "50%      2.000000   552.000000   77.000000   15.000000    2.000000   \n",
       "75%      2.000000   873.000000   82.000000   16.000000    3.000000   \n",
       "max      5.000000  2639.000000   98.000000   23.000000    5.000000   \n",
       "\n",
       "             MMSE         CDR         eTIV        nWBV         ASF  \n",
       "count  371.000000  373.000000   373.000000  373.000000  373.000000  \n",
       "mean    27.342318    0.290885  1488.128686    0.729568    1.195461  \n",
       "std      3.683244    0.374557   176.139286    0.037135    0.138092  \n",
       "min      4.000000    0.000000  1106.000000    0.644000    0.876000  \n",
       "25%     27.000000    0.000000  1357.000000    0.700000    1.099000  \n",
       "50%     29.000000    0.000000  1470.000000    0.729000    1.194000  \n",
       "75%     30.000000    0.500000  1597.000000    0.756000    1.293000  \n",
       "max     30.000000    2.000000  2004.000000    0.837000    1.587000  "
      ]
     },
     "execution_count": 12,
     "metadata": {},
     "output_type": "execute_result"
    }
   ],
   "source": [
    "dfoasl.describe()"
   ]
  },
  {
   "cell_type": "code",
   "execution_count": 13,
   "metadata": {},
   "outputs": [
    {
     "name": "stdout",
     "output_type": "stream",
     "text": [
      "<class 'pandas.core.frame.DataFrame'>\n",
      "RangeIndex: 373 entries, 0 to 372\n",
      "Data columns (total 15 columns):\n",
      "Subject ID    373 non-null object\n",
      "MRI ID        373 non-null object\n",
      "Group         373 non-null object\n",
      "Visit         373 non-null int64\n",
      "MR Delay      373 non-null int64\n",
      "M/F           373 non-null object\n",
      "Hand          373 non-null object\n",
      "Age           373 non-null int64\n",
      "EDUC          373 non-null int64\n",
      "SES           354 non-null float64\n",
      "MMSE          371 non-null float64\n",
      "CDR           373 non-null float64\n",
      "eTIV          373 non-null int64\n",
      "nWBV          373 non-null float64\n",
      "ASF           373 non-null float64\n",
      "dtypes: float64(5), int64(5), object(5)\n",
      "memory usage: 43.8+ KB\n"
     ]
    }
   ],
   "source": [
    "dfoasl.info()"
   ]
  },
  {
   "cell_type": "markdown",
   "metadata": {},
   "source": [
    "The three additional columns (Subject ID, Group, and Visit) in dfoasl dataset are not in the dfoasx dataset. These three columns are not meaningful for the cDR classification,  and will be dropped before merging the dloasx and dfoasl datasets. The MR Delay and Delay columns in the two datasets have same meaning and the MR Delay column will be repositioned to be in the same column order as the Delay column."
   ]
  },
  {
   "cell_type": "code",
   "execution_count": 14,
   "metadata": {},
   "outputs": [
    {
     "data": {
      "text/html": [
       "<div>\n",
       "<table border=\"1\" class=\"dataframe\">\n",
       "  <thead>\n",
       "    <tr style=\"text-align: right;\">\n",
       "      <th></th>\n",
       "      <th>Subject ID</th>\n",
       "      <th>MRI ID</th>\n",
       "      <th>Group</th>\n",
       "      <th>Visit</th>\n",
       "      <th>MR Delay</th>\n",
       "      <th>M/F</th>\n",
       "      <th>Hand</th>\n",
       "      <th>Age</th>\n",
       "      <th>EDUC</th>\n",
       "      <th>SES</th>\n",
       "      <th>MMSE</th>\n",
       "      <th>CDR</th>\n",
       "      <th>eTIV</th>\n",
       "      <th>nWBV</th>\n",
       "      <th>ASF</th>\n",
       "    </tr>\n",
       "  </thead>\n",
       "  <tbody>\n",
       "    <tr>\n",
       "      <th>0</th>\n",
       "      <td>OAS2_0001</td>\n",
       "      <td>OAS2_0001_MR1</td>\n",
       "      <td>Nondemented</td>\n",
       "      <td>1</td>\n",
       "      <td>0</td>\n",
       "      <td>M</td>\n",
       "      <td>R</td>\n",
       "      <td>87</td>\n",
       "      <td>14</td>\n",
       "      <td>2.0</td>\n",
       "      <td>27.0</td>\n",
       "      <td>0.0</td>\n",
       "      <td>1987</td>\n",
       "      <td>0.696</td>\n",
       "      <td>0.883</td>\n",
       "    </tr>\n",
       "    <tr>\n",
       "      <th>1</th>\n",
       "      <td>OAS2_0001</td>\n",
       "      <td>OAS2_0001_MR2</td>\n",
       "      <td>Nondemented</td>\n",
       "      <td>2</td>\n",
       "      <td>457</td>\n",
       "      <td>M</td>\n",
       "      <td>R</td>\n",
       "      <td>88</td>\n",
       "      <td>14</td>\n",
       "      <td>2.0</td>\n",
       "      <td>30.0</td>\n",
       "      <td>0.0</td>\n",
       "      <td>2004</td>\n",
       "      <td>0.681</td>\n",
       "      <td>0.876</td>\n",
       "    </tr>\n",
       "    <tr>\n",
       "      <th>2</th>\n",
       "      <td>OAS2_0002</td>\n",
       "      <td>OAS2_0002_MR1</td>\n",
       "      <td>Demented</td>\n",
       "      <td>1</td>\n",
       "      <td>0</td>\n",
       "      <td>M</td>\n",
       "      <td>R</td>\n",
       "      <td>75</td>\n",
       "      <td>12</td>\n",
       "      <td>NaN</td>\n",
       "      <td>23.0</td>\n",
       "      <td>0.5</td>\n",
       "      <td>1678</td>\n",
       "      <td>0.736</td>\n",
       "      <td>1.046</td>\n",
       "    </tr>\n",
       "    <tr>\n",
       "      <th>3</th>\n",
       "      <td>OAS2_0002</td>\n",
       "      <td>OAS2_0002_MR2</td>\n",
       "      <td>Demented</td>\n",
       "      <td>2</td>\n",
       "      <td>560</td>\n",
       "      <td>M</td>\n",
       "      <td>R</td>\n",
       "      <td>76</td>\n",
       "      <td>12</td>\n",
       "      <td>NaN</td>\n",
       "      <td>28.0</td>\n",
       "      <td>0.5</td>\n",
       "      <td>1738</td>\n",
       "      <td>0.713</td>\n",
       "      <td>1.010</td>\n",
       "    </tr>\n",
       "    <tr>\n",
       "      <th>4</th>\n",
       "      <td>OAS2_0002</td>\n",
       "      <td>OAS2_0002_MR3</td>\n",
       "      <td>Demented</td>\n",
       "      <td>3</td>\n",
       "      <td>1895</td>\n",
       "      <td>M</td>\n",
       "      <td>R</td>\n",
       "      <td>80</td>\n",
       "      <td>12</td>\n",
       "      <td>NaN</td>\n",
       "      <td>22.0</td>\n",
       "      <td>0.5</td>\n",
       "      <td>1698</td>\n",
       "      <td>0.701</td>\n",
       "      <td>1.034</td>\n",
       "    </tr>\n",
       "  </tbody>\n",
       "</table>\n",
       "</div>"
      ],
      "text/plain": [
       "  Subject ID         MRI ID        Group  Visit  MR Delay M/F Hand  Age  EDUC  \\\n",
       "0  OAS2_0001  OAS2_0001_MR1  Nondemented      1         0   M    R   87    14   \n",
       "1  OAS2_0001  OAS2_0001_MR2  Nondemented      2       457   M    R   88    14   \n",
       "2  OAS2_0002  OAS2_0002_MR1     Demented      1         0   M    R   75    12   \n",
       "3  OAS2_0002  OAS2_0002_MR2     Demented      2       560   M    R   76    12   \n",
       "4  OAS2_0002  OAS2_0002_MR3     Demented      3      1895   M    R   80    12   \n",
       "\n",
       "   SES  MMSE  CDR  eTIV   nWBV    ASF  \n",
       "0  2.0  27.0  0.0  1987  0.696  0.883  \n",
       "1  2.0  30.0  0.0  2004  0.681  0.876  \n",
       "2  NaN  23.0  0.5  1678  0.736  1.046  \n",
       "3  NaN  28.0  0.5  1738  0.713  1.010  \n",
       "4  NaN  22.0  0.5  1698  0.701  1.034  "
      ]
     },
     "execution_count": 14,
     "metadata": {},
     "output_type": "execute_result"
    }
   ],
   "source": [
    "dfoasl.head(5)"
   ]
  },
  {
   "cell_type": "markdown",
   "metadata": {},
   "source": [
    "Longitudinal MRI dataset has many rows with NaN values in multiple columns. These NaN values will be removed after merging the dataset with the Cross-sectional MRI dataset."
   ]
  },
  {
   "cell_type": "code",
   "execution_count": 15,
   "metadata": {},
   "outputs": [
    {
     "name": "stdout",
     "output_type": "stream",
     "text": [
      "ID        object\n",
      "M/F       object\n",
      "Hand      object\n",
      "Age        int64\n",
      "Educ     float64\n",
      "SES      float64\n",
      "MMSE     float64\n",
      "CDR      float64\n",
      "eTIV       int64\n",
      "nWBV     float64\n",
      "ASF      float64\n",
      "Delay    float64\n",
      "dtype: object\n"
     ]
    }
   ],
   "source": [
    "typesl=dfoasx.dtypes\n",
    "print(typesl)"
   ]
  },
  {
   "cell_type": "code",
   "execution_count": 16,
   "metadata": {},
   "outputs": [
    {
     "name": "stdout",
     "output_type": "stream",
     "text": [
      "206 , 123\n",
      "41 , 3\n"
     ]
    }
   ],
   "source": [
    "# Determine the count of various values for the label CDR\n",
    "print (dfoasl.CDR[(dfoasl.CDR == 0.0)].count(),\",\", dfoasl.CDR[(dfoasl.CDR == 0.5)].count())\n",
    "print (dfoasl.CDR[(dfoasl.CDR == 1.0)].count(),\",\", dfoasl.CDR[(dfoasl.CDR == 2)].count())"
   ]
  },
  {
   "cell_type": "code",
   "execution_count": 17,
   "metadata": {},
   "outputs": [
    {
     "data": {
      "text/plain": [
       "0"
      ]
     },
     "execution_count": 17,
     "metadata": {},
     "output_type": "execute_result"
    }
   ],
   "source": [
    "\n",
    "import pandas as pd\n",
    "## dfoasl cross-sectional MRI data frame \n",
    "## CDR is name of column for which you want to calculate the NaN values\n",
    "sum(pd.isnull(dfoasl['CDR']))"
   ]
  },
  {
   "cell_type": "markdown",
   "metadata": {},
   "source": [
    "* CDR   =         0,     0.5,      1.0, \t     2, \t     NaN\n",
    "\n",
    "* dfoasx=\t135,\t    70,\t     28,\t     2,\t     201\n",
    "\n",
    "* dfoasl=\t206,\t   123,\t     41,\t     3,\t       0\n",
    "\n",
    "* Total = \t341,\t   193,\t     69,\t     5,\t     201\n"
   ]
  },
  {
   "cell_type": "markdown",
   "metadata": {},
   "source": [
    "## Methodology"
   ]
  },
  {
   "cell_type": "markdown",
   "metadata": {},
   "source": [
    "## Data Preprocessing\n",
    "All preprocessing steps have been clearly documented. Abnormalities or characteristics about the data or input that needed to be addressed have been corrected. If no data preprocessing is necessary, it has been clearly justified.\n",
    "\n",
    "Wikipedia: \"If there is much irrelevant and redundant information present or noisy and unreliable data, then knowledge discovery during the training phase is more difficult. Data pre-processing includes cleaning, instance selection, normalization, transformation, feature extraction and selection, etc. The product of data pre-processing is the final training set.\" "
   ]
  },
  {
   "cell_type": "code",
   "execution_count": 18,
   "metadata": {},
   "outputs": [
    {
     "data": {
      "text/html": [
       "<div>\n",
       "<table border=\"1\" class=\"dataframe\">\n",
       "  <thead>\n",
       "    <tr style=\"text-align: right;\">\n",
       "      <th></th>\n",
       "      <th>ID</th>\n",
       "      <th>M/F</th>\n",
       "      <th>Hand</th>\n",
       "      <th>Age</th>\n",
       "      <th>Educ</th>\n",
       "      <th>SES</th>\n",
       "      <th>MMSE</th>\n",
       "      <th>CDR</th>\n",
       "      <th>eTIV</th>\n",
       "      <th>nWBV</th>\n",
       "      <th>ASF</th>\n",
       "      <th>Delay</th>\n",
       "    </tr>\n",
       "  </thead>\n",
       "  <tbody>\n",
       "    <tr>\n",
       "      <th>0</th>\n",
       "      <td>OAS1_0001_MR1</td>\n",
       "      <td>1</td>\n",
       "      <td>R</td>\n",
       "      <td>74</td>\n",
       "      <td>2.0</td>\n",
       "      <td>3.0</td>\n",
       "      <td>29.0</td>\n",
       "      <td>0.0</td>\n",
       "      <td>1344</td>\n",
       "      <td>0.743</td>\n",
       "      <td>1.306</td>\n",
       "      <td>NaN</td>\n",
       "    </tr>\n",
       "    <tr>\n",
       "      <th>1</th>\n",
       "      <td>OAS1_0002_MR1</td>\n",
       "      <td>1</td>\n",
       "      <td>R</td>\n",
       "      <td>55</td>\n",
       "      <td>4.0</td>\n",
       "      <td>1.0</td>\n",
       "      <td>29.0</td>\n",
       "      <td>0.0</td>\n",
       "      <td>1147</td>\n",
       "      <td>0.810</td>\n",
       "      <td>1.531</td>\n",
       "      <td>NaN</td>\n",
       "    </tr>\n",
       "    <tr>\n",
       "      <th>2</th>\n",
       "      <td>OAS1_0003_MR1</td>\n",
       "      <td>1</td>\n",
       "      <td>R</td>\n",
       "      <td>73</td>\n",
       "      <td>4.0</td>\n",
       "      <td>3.0</td>\n",
       "      <td>27.0</td>\n",
       "      <td>0.5</td>\n",
       "      <td>1454</td>\n",
       "      <td>0.708</td>\n",
       "      <td>1.207</td>\n",
       "      <td>NaN</td>\n",
       "    </tr>\n",
       "    <tr>\n",
       "      <th>3</th>\n",
       "      <td>OAS1_0004_MR1</td>\n",
       "      <td>0</td>\n",
       "      <td>R</td>\n",
       "      <td>28</td>\n",
       "      <td>NaN</td>\n",
       "      <td>NaN</td>\n",
       "      <td>NaN</td>\n",
       "      <td>NaN</td>\n",
       "      <td>1588</td>\n",
       "      <td>0.803</td>\n",
       "      <td>1.105</td>\n",
       "      <td>NaN</td>\n",
       "    </tr>\n",
       "    <tr>\n",
       "      <th>4</th>\n",
       "      <td>OAS1_0005_MR1</td>\n",
       "      <td>0</td>\n",
       "      <td>R</td>\n",
       "      <td>18</td>\n",
       "      <td>NaN</td>\n",
       "      <td>NaN</td>\n",
       "      <td>NaN</td>\n",
       "      <td>NaN</td>\n",
       "      <td>1737</td>\n",
       "      <td>0.848</td>\n",
       "      <td>1.010</td>\n",
       "      <td>NaN</td>\n",
       "    </tr>\n",
       "    <tr>\n",
       "      <th>5</th>\n",
       "      <td>OAS1_0006_MR1</td>\n",
       "      <td>1</td>\n",
       "      <td>R</td>\n",
       "      <td>24</td>\n",
       "      <td>NaN</td>\n",
       "      <td>NaN</td>\n",
       "      <td>NaN</td>\n",
       "      <td>NaN</td>\n",
       "      <td>1131</td>\n",
       "      <td>0.862</td>\n",
       "      <td>1.551</td>\n",
       "      <td>NaN</td>\n",
       "    </tr>\n",
       "    <tr>\n",
       "      <th>6</th>\n",
       "      <td>OAS1_0007_MR1</td>\n",
       "      <td>0</td>\n",
       "      <td>R</td>\n",
       "      <td>21</td>\n",
       "      <td>NaN</td>\n",
       "      <td>NaN</td>\n",
       "      <td>NaN</td>\n",
       "      <td>NaN</td>\n",
       "      <td>1516</td>\n",
       "      <td>0.830</td>\n",
       "      <td>1.157</td>\n",
       "      <td>NaN</td>\n",
       "    </tr>\n",
       "    <tr>\n",
       "      <th>7</th>\n",
       "      <td>OAS1_0009_MR1</td>\n",
       "      <td>1</td>\n",
       "      <td>R</td>\n",
       "      <td>20</td>\n",
       "      <td>NaN</td>\n",
       "      <td>NaN</td>\n",
       "      <td>NaN</td>\n",
       "      <td>NaN</td>\n",
       "      <td>1505</td>\n",
       "      <td>0.843</td>\n",
       "      <td>1.166</td>\n",
       "      <td>NaN</td>\n",
       "    </tr>\n",
       "    <tr>\n",
       "      <th>8</th>\n",
       "      <td>OAS1_0010_MR1</td>\n",
       "      <td>0</td>\n",
       "      <td>R</td>\n",
       "      <td>74</td>\n",
       "      <td>5.0</td>\n",
       "      <td>2.0</td>\n",
       "      <td>30.0</td>\n",
       "      <td>0.0</td>\n",
       "      <td>1636</td>\n",
       "      <td>0.689</td>\n",
       "      <td>1.073</td>\n",
       "      <td>NaN</td>\n",
       "    </tr>\n",
       "    <tr>\n",
       "      <th>9</th>\n",
       "      <td>OAS1_0011_MR1</td>\n",
       "      <td>1</td>\n",
       "      <td>R</td>\n",
       "      <td>52</td>\n",
       "      <td>3.0</td>\n",
       "      <td>2.0</td>\n",
       "      <td>30.0</td>\n",
       "      <td>0.0</td>\n",
       "      <td>1321</td>\n",
       "      <td>0.827</td>\n",
       "      <td>1.329</td>\n",
       "      <td>NaN</td>\n",
       "    </tr>\n",
       "  </tbody>\n",
       "</table>\n",
       "</div>"
      ],
      "text/plain": [
       "              ID  M/F Hand  Age  Educ  SES  MMSE  CDR  eTIV   nWBV    ASF  \\\n",
       "0  OAS1_0001_MR1    1    R   74   2.0  3.0  29.0  0.0  1344  0.743  1.306   \n",
       "1  OAS1_0002_MR1    1    R   55   4.0  1.0  29.0  0.0  1147  0.810  1.531   \n",
       "2  OAS1_0003_MR1    1    R   73   4.0  3.0  27.0  0.5  1454  0.708  1.207   \n",
       "3  OAS1_0004_MR1    0    R   28   NaN  NaN   NaN  NaN  1588  0.803  1.105   \n",
       "4  OAS1_0005_MR1    0    R   18   NaN  NaN   NaN  NaN  1737  0.848  1.010   \n",
       "5  OAS1_0006_MR1    1    R   24   NaN  NaN   NaN  NaN  1131  0.862  1.551   \n",
       "6  OAS1_0007_MR1    0    R   21   NaN  NaN   NaN  NaN  1516  0.830  1.157   \n",
       "7  OAS1_0009_MR1    1    R   20   NaN  NaN   NaN  NaN  1505  0.843  1.166   \n",
       "8  OAS1_0010_MR1    0    R   74   5.0  2.0  30.0  0.0  1636  0.689  1.073   \n",
       "9  OAS1_0011_MR1    1    R   52   3.0  2.0  30.0  0.0  1321  0.827  1.329   \n",
       "\n",
       "   Delay  \n",
       "0    NaN  \n",
       "1    NaN  \n",
       "2    NaN  \n",
       "3    NaN  \n",
       "4    NaN  \n",
       "5    NaN  \n",
       "6    NaN  \n",
       "7    NaN  \n",
       "8    NaN  \n",
       "9    NaN  "
      ]
     },
     "execution_count": 18,
     "metadata": {},
     "output_type": "execute_result"
    }
   ],
   "source": [
    "# Cross-sectional MRI data preparation and preprocessing\n",
    "# Replace gender data \"M\" and \"F\" with numerical inputs 0, and 1\n",
    "dfoasx['M/F'] = dfoasx['M/F'].replace('F', 1)\n",
    "dfoasx['M/F'] = dfoasx['M/F'].replace('M', 0)\n",
    "dfoasx.head(10)"
   ]
  },
  {
   "cell_type": "code",
   "execution_count": 19,
   "metadata": {},
   "outputs": [
    {
     "name": "stdout",
     "output_type": "stream",
     "text": [
      "135 , 70\n",
      "28 , 2\n"
     ]
    }
   ],
   "source": [
    "# Determine the count of various values for the label CDR\n",
    "print (dfoasx.CDR[(dfoasx.CDR == 0.0)].count(),\",\", dfoasx.CDR[(dfoasx.CDR == 0.5)].count())\n",
    "print (dfoasx.CDR[(dfoasx.CDR == 1.0)].count(),\",\", dfoasx.CDR[(dfoasx.CDR == 2)].count())"
   ]
  },
  {
   "cell_type": "code",
   "execution_count": 20,
   "metadata": {},
   "outputs": [
    {
     "data": {
      "text/html": [
       "<div>\n",
       "<table border=\"1\" class=\"dataframe\">\n",
       "  <thead>\n",
       "    <tr style=\"text-align: right;\">\n",
       "      <th></th>\n",
       "      <th>Subject ID</th>\n",
       "      <th>MRI ID</th>\n",
       "      <th>Group</th>\n",
       "      <th>Visit</th>\n",
       "      <th>MR Delay</th>\n",
       "      <th>M/F</th>\n",
       "      <th>Hand</th>\n",
       "      <th>Age</th>\n",
       "      <th>EDUC</th>\n",
       "      <th>SES</th>\n",
       "      <th>MMSE</th>\n",
       "      <th>CDR</th>\n",
       "      <th>eTIV</th>\n",
       "      <th>nWBV</th>\n",
       "      <th>ASF</th>\n",
       "    </tr>\n",
       "  </thead>\n",
       "  <tbody>\n",
       "    <tr>\n",
       "      <th>0</th>\n",
       "      <td>OAS2_0001</td>\n",
       "      <td>OAS2_0001_MR1</td>\n",
       "      <td>Nondemented</td>\n",
       "      <td>1</td>\n",
       "      <td>0</td>\n",
       "      <td>0</td>\n",
       "      <td>R</td>\n",
       "      <td>87</td>\n",
       "      <td>14</td>\n",
       "      <td>2.0</td>\n",
       "      <td>27.0</td>\n",
       "      <td>0.0</td>\n",
       "      <td>1987</td>\n",
       "      <td>0.696</td>\n",
       "      <td>0.883</td>\n",
       "    </tr>\n",
       "    <tr>\n",
       "      <th>1</th>\n",
       "      <td>OAS2_0001</td>\n",
       "      <td>OAS2_0001_MR2</td>\n",
       "      <td>Nondemented</td>\n",
       "      <td>2</td>\n",
       "      <td>457</td>\n",
       "      <td>0</td>\n",
       "      <td>R</td>\n",
       "      <td>88</td>\n",
       "      <td>14</td>\n",
       "      <td>2.0</td>\n",
       "      <td>30.0</td>\n",
       "      <td>0.0</td>\n",
       "      <td>2004</td>\n",
       "      <td>0.681</td>\n",
       "      <td>0.876</td>\n",
       "    </tr>\n",
       "    <tr>\n",
       "      <th>2</th>\n",
       "      <td>OAS2_0002</td>\n",
       "      <td>OAS2_0002_MR1</td>\n",
       "      <td>Demented</td>\n",
       "      <td>1</td>\n",
       "      <td>0</td>\n",
       "      <td>0</td>\n",
       "      <td>R</td>\n",
       "      <td>75</td>\n",
       "      <td>12</td>\n",
       "      <td>NaN</td>\n",
       "      <td>23.0</td>\n",
       "      <td>0.5</td>\n",
       "      <td>1678</td>\n",
       "      <td>0.736</td>\n",
       "      <td>1.046</td>\n",
       "    </tr>\n",
       "    <tr>\n",
       "      <th>3</th>\n",
       "      <td>OAS2_0002</td>\n",
       "      <td>OAS2_0002_MR2</td>\n",
       "      <td>Demented</td>\n",
       "      <td>2</td>\n",
       "      <td>560</td>\n",
       "      <td>0</td>\n",
       "      <td>R</td>\n",
       "      <td>76</td>\n",
       "      <td>12</td>\n",
       "      <td>NaN</td>\n",
       "      <td>28.0</td>\n",
       "      <td>0.5</td>\n",
       "      <td>1738</td>\n",
       "      <td>0.713</td>\n",
       "      <td>1.010</td>\n",
       "    </tr>\n",
       "    <tr>\n",
       "      <th>4</th>\n",
       "      <td>OAS2_0002</td>\n",
       "      <td>OAS2_0002_MR3</td>\n",
       "      <td>Demented</td>\n",
       "      <td>3</td>\n",
       "      <td>1895</td>\n",
       "      <td>0</td>\n",
       "      <td>R</td>\n",
       "      <td>80</td>\n",
       "      <td>12</td>\n",
       "      <td>NaN</td>\n",
       "      <td>22.0</td>\n",
       "      <td>0.5</td>\n",
       "      <td>1698</td>\n",
       "      <td>0.701</td>\n",
       "      <td>1.034</td>\n",
       "    </tr>\n",
       "    <tr>\n",
       "      <th>5</th>\n",
       "      <td>OAS2_0004</td>\n",
       "      <td>OAS2_0004_MR1</td>\n",
       "      <td>Nondemented</td>\n",
       "      <td>1</td>\n",
       "      <td>0</td>\n",
       "      <td>1</td>\n",
       "      <td>R</td>\n",
       "      <td>88</td>\n",
       "      <td>18</td>\n",
       "      <td>3.0</td>\n",
       "      <td>28.0</td>\n",
       "      <td>0.0</td>\n",
       "      <td>1215</td>\n",
       "      <td>0.710</td>\n",
       "      <td>1.444</td>\n",
       "    </tr>\n",
       "    <tr>\n",
       "      <th>6</th>\n",
       "      <td>OAS2_0004</td>\n",
       "      <td>OAS2_0004_MR2</td>\n",
       "      <td>Nondemented</td>\n",
       "      <td>2</td>\n",
       "      <td>538</td>\n",
       "      <td>1</td>\n",
       "      <td>R</td>\n",
       "      <td>90</td>\n",
       "      <td>18</td>\n",
       "      <td>3.0</td>\n",
       "      <td>27.0</td>\n",
       "      <td>0.0</td>\n",
       "      <td>1200</td>\n",
       "      <td>0.718</td>\n",
       "      <td>1.462</td>\n",
       "    </tr>\n",
       "    <tr>\n",
       "      <th>7</th>\n",
       "      <td>OAS2_0005</td>\n",
       "      <td>OAS2_0005_MR1</td>\n",
       "      <td>Nondemented</td>\n",
       "      <td>1</td>\n",
       "      <td>0</td>\n",
       "      <td>0</td>\n",
       "      <td>R</td>\n",
       "      <td>80</td>\n",
       "      <td>12</td>\n",
       "      <td>4.0</td>\n",
       "      <td>28.0</td>\n",
       "      <td>0.0</td>\n",
       "      <td>1689</td>\n",
       "      <td>0.712</td>\n",
       "      <td>1.039</td>\n",
       "    </tr>\n",
       "    <tr>\n",
       "      <th>8</th>\n",
       "      <td>OAS2_0005</td>\n",
       "      <td>OAS2_0005_MR2</td>\n",
       "      <td>Nondemented</td>\n",
       "      <td>2</td>\n",
       "      <td>1010</td>\n",
       "      <td>0</td>\n",
       "      <td>R</td>\n",
       "      <td>83</td>\n",
       "      <td>12</td>\n",
       "      <td>4.0</td>\n",
       "      <td>29.0</td>\n",
       "      <td>0.5</td>\n",
       "      <td>1701</td>\n",
       "      <td>0.711</td>\n",
       "      <td>1.032</td>\n",
       "    </tr>\n",
       "    <tr>\n",
       "      <th>9</th>\n",
       "      <td>OAS2_0005</td>\n",
       "      <td>OAS2_0005_MR3</td>\n",
       "      <td>Nondemented</td>\n",
       "      <td>3</td>\n",
       "      <td>1603</td>\n",
       "      <td>0</td>\n",
       "      <td>R</td>\n",
       "      <td>85</td>\n",
       "      <td>12</td>\n",
       "      <td>4.0</td>\n",
       "      <td>30.0</td>\n",
       "      <td>0.0</td>\n",
       "      <td>1699</td>\n",
       "      <td>0.705</td>\n",
       "      <td>1.033</td>\n",
       "    </tr>\n",
       "  </tbody>\n",
       "</table>\n",
       "</div>"
      ],
      "text/plain": [
       "  Subject ID         MRI ID        Group  Visit  MR Delay  M/F Hand  Age  \\\n",
       "0  OAS2_0001  OAS2_0001_MR1  Nondemented      1         0    0    R   87   \n",
       "1  OAS2_0001  OAS2_0001_MR2  Nondemented      2       457    0    R   88   \n",
       "2  OAS2_0002  OAS2_0002_MR1     Demented      1         0    0    R   75   \n",
       "3  OAS2_0002  OAS2_0002_MR2     Demented      2       560    0    R   76   \n",
       "4  OAS2_0002  OAS2_0002_MR3     Demented      3      1895    0    R   80   \n",
       "5  OAS2_0004  OAS2_0004_MR1  Nondemented      1         0    1    R   88   \n",
       "6  OAS2_0004  OAS2_0004_MR2  Nondemented      2       538    1    R   90   \n",
       "7  OAS2_0005  OAS2_0005_MR1  Nondemented      1         0    0    R   80   \n",
       "8  OAS2_0005  OAS2_0005_MR2  Nondemented      2      1010    0    R   83   \n",
       "9  OAS2_0005  OAS2_0005_MR3  Nondemented      3      1603    0    R   85   \n",
       "\n",
       "   EDUC  SES  MMSE  CDR  eTIV   nWBV    ASF  \n",
       "0    14  2.0  27.0  0.0  1987  0.696  0.883  \n",
       "1    14  2.0  30.0  0.0  2004  0.681  0.876  \n",
       "2    12  NaN  23.0  0.5  1678  0.736  1.046  \n",
       "3    12  NaN  28.0  0.5  1738  0.713  1.010  \n",
       "4    12  NaN  22.0  0.5  1698  0.701  1.034  \n",
       "5    18  3.0  28.0  0.0  1215  0.710  1.444  \n",
       "6    18  3.0  27.0  0.0  1200  0.718  1.462  \n",
       "7    12  4.0  28.0  0.0  1689  0.712  1.039  \n",
       "8    12  4.0  29.0  0.5  1701  0.711  1.032  \n",
       "9    12  4.0  30.0  0.0  1699  0.705  1.033  "
      ]
     },
     "execution_count": 20,
     "metadata": {},
     "output_type": "execute_result"
    }
   ],
   "source": [
    "# Longitudinal  MRI data preparation\n",
    "# Replace gender data \"M\" and \"F\" with numerical inputs 0, and 1\n",
    "dfoasl['M/F'] = dfoasl['M/F'].replace('F', 1)\n",
    "dfoasl['M/F'] = dfoasl['M/F'].replace('M', 0)\n",
    "dfoasl.head(10)"
   ]
  },
  {
   "cell_type": "code",
   "execution_count": 21,
   "metadata": {},
   "outputs": [
    {
     "name": "stdout",
     "output_type": "stream",
     "text": [
      "206 , 123\n",
      "41 , 3\n"
     ]
    }
   ],
   "source": [
    "# Determine the count of various values for the label CDR\n",
    "print (dfoasl.CDR[(dfoasl.CDR == 0.0)].count(),\",\", dfoasl.CDR[(dfoasl.CDR == 0.5)].count())\n",
    "print (dfoasl.CDR[(dfoasl.CDR == 1.0)].count(),\",\", dfoasl.CDR[(dfoasl.CDR == 2)].count())"
   ]
  },
  {
   "cell_type": "code",
   "execution_count": 22,
   "metadata": {},
   "outputs": [
    {
     "data": {
      "text/html": [
       "<div>\n",
       "<table border=\"1\" class=\"dataframe\">\n",
       "  <thead>\n",
       "    <tr style=\"text-align: right;\">\n",
       "      <th></th>\n",
       "      <th>MRI ID</th>\n",
       "      <th>M/F</th>\n",
       "      <th>Hand</th>\n",
       "      <th>Age</th>\n",
       "      <th>EDUC</th>\n",
       "      <th>SES</th>\n",
       "      <th>MMSE</th>\n",
       "      <th>CDR</th>\n",
       "      <th>eTIV</th>\n",
       "      <th>nWBV</th>\n",
       "      <th>ASF</th>\n",
       "      <th>MR Delay</th>\n",
       "    </tr>\n",
       "  </thead>\n",
       "  <tbody>\n",
       "    <tr>\n",
       "      <th>0</th>\n",
       "      <td>OAS2_0001_MR1</td>\n",
       "      <td>0</td>\n",
       "      <td>R</td>\n",
       "      <td>87</td>\n",
       "      <td>14</td>\n",
       "      <td>2.0</td>\n",
       "      <td>27.0</td>\n",
       "      <td>0.0</td>\n",
       "      <td>1987</td>\n",
       "      <td>0.696</td>\n",
       "      <td>0.883</td>\n",
       "      <td>0</td>\n",
       "    </tr>\n",
       "    <tr>\n",
       "      <th>1</th>\n",
       "      <td>OAS2_0001_MR2</td>\n",
       "      <td>0</td>\n",
       "      <td>R</td>\n",
       "      <td>88</td>\n",
       "      <td>14</td>\n",
       "      <td>2.0</td>\n",
       "      <td>30.0</td>\n",
       "      <td>0.0</td>\n",
       "      <td>2004</td>\n",
       "      <td>0.681</td>\n",
       "      <td>0.876</td>\n",
       "      <td>457</td>\n",
       "    </tr>\n",
       "    <tr>\n",
       "      <th>2</th>\n",
       "      <td>OAS2_0002_MR1</td>\n",
       "      <td>0</td>\n",
       "      <td>R</td>\n",
       "      <td>75</td>\n",
       "      <td>12</td>\n",
       "      <td>NaN</td>\n",
       "      <td>23.0</td>\n",
       "      <td>0.5</td>\n",
       "      <td>1678</td>\n",
       "      <td>0.736</td>\n",
       "      <td>1.046</td>\n",
       "      <td>0</td>\n",
       "    </tr>\n",
       "    <tr>\n",
       "      <th>3</th>\n",
       "      <td>OAS2_0002_MR2</td>\n",
       "      <td>0</td>\n",
       "      <td>R</td>\n",
       "      <td>76</td>\n",
       "      <td>12</td>\n",
       "      <td>NaN</td>\n",
       "      <td>28.0</td>\n",
       "      <td>0.5</td>\n",
       "      <td>1738</td>\n",
       "      <td>0.713</td>\n",
       "      <td>1.010</td>\n",
       "      <td>560</td>\n",
       "    </tr>\n",
       "    <tr>\n",
       "      <th>4</th>\n",
       "      <td>OAS2_0002_MR3</td>\n",
       "      <td>0</td>\n",
       "      <td>R</td>\n",
       "      <td>80</td>\n",
       "      <td>12</td>\n",
       "      <td>NaN</td>\n",
       "      <td>22.0</td>\n",
       "      <td>0.5</td>\n",
       "      <td>1698</td>\n",
       "      <td>0.701</td>\n",
       "      <td>1.034</td>\n",
       "      <td>1895</td>\n",
       "    </tr>\n",
       "    <tr>\n",
       "      <th>5</th>\n",
       "      <td>OAS2_0004_MR1</td>\n",
       "      <td>1</td>\n",
       "      <td>R</td>\n",
       "      <td>88</td>\n",
       "      <td>18</td>\n",
       "      <td>3.0</td>\n",
       "      <td>28.0</td>\n",
       "      <td>0.0</td>\n",
       "      <td>1215</td>\n",
       "      <td>0.710</td>\n",
       "      <td>1.444</td>\n",
       "      <td>0</td>\n",
       "    </tr>\n",
       "  </tbody>\n",
       "</table>\n",
       "</div>"
      ],
      "text/plain": [
       "          MRI ID  M/F Hand  Age  EDUC  SES  MMSE  CDR  eTIV   nWBV    ASF  \\\n",
       "0  OAS2_0001_MR1    0    R   87    14  2.0  27.0  0.0  1987  0.696  0.883   \n",
       "1  OAS2_0001_MR2    0    R   88    14  2.0  30.0  0.0  2004  0.681  0.876   \n",
       "2  OAS2_0002_MR1    0    R   75    12  NaN  23.0  0.5  1678  0.736  1.046   \n",
       "3  OAS2_0002_MR2    0    R   76    12  NaN  28.0  0.5  1738  0.713  1.010   \n",
       "4  OAS2_0002_MR3    0    R   80    12  NaN  22.0  0.5  1698  0.701  1.034   \n",
       "5  OAS2_0004_MR1    1    R   88    18  3.0  28.0  0.0  1215  0.710  1.444   \n",
       "\n",
       "   MR Delay  \n",
       "0         0  \n",
       "1       457  \n",
       "2         0  \n",
       "3       560  \n",
       "4      1895  \n",
       "5         0  "
      ]
     },
     "execution_count": 22,
     "metadata": {},
     "output_type": "execute_result"
    }
   ],
   "source": [
    "# Select longitudinal dataset columns that are similar to the dataset for cross-sectional dataset\n",
    "dfoasl2=dfoasl[['MRI ID','M/F','Hand','Age',\n",
    " 'EDUC','SES','MMSE','CDR','eTIV','nWBV','ASF', 'MR Delay']]\n",
    "dfoasl2.head(6)"
   ]
  },
  {
   "cell_type": "code",
   "execution_count": 23,
   "metadata": {},
   "outputs": [
    {
     "data": {
      "text/html": [
       "<div>\n",
       "<table border=\"1\" class=\"dataframe\">\n",
       "  <thead>\n",
       "    <tr style=\"text-align: right;\">\n",
       "      <th></th>\n",
       "      <th>ID</th>\n",
       "      <th>M/F</th>\n",
       "      <th>Hand</th>\n",
       "      <th>Age</th>\n",
       "      <th>Educ</th>\n",
       "      <th>SES</th>\n",
       "      <th>MMSE</th>\n",
       "      <th>CDR</th>\n",
       "      <th>eTIV</th>\n",
       "      <th>nWBV</th>\n",
       "      <th>ASF</th>\n",
       "      <th>Delay</th>\n",
       "    </tr>\n",
       "  </thead>\n",
       "  <tbody>\n",
       "    <tr>\n",
       "      <th>0</th>\n",
       "      <td>OAS2_0001_MR1</td>\n",
       "      <td>0</td>\n",
       "      <td>R</td>\n",
       "      <td>87</td>\n",
       "      <td>14</td>\n",
       "      <td>2.0</td>\n",
       "      <td>27.0</td>\n",
       "      <td>0.0</td>\n",
       "      <td>1987</td>\n",
       "      <td>0.696</td>\n",
       "      <td>0.883</td>\n",
       "      <td>0</td>\n",
       "    </tr>\n",
       "    <tr>\n",
       "      <th>1</th>\n",
       "      <td>OAS2_0001_MR2</td>\n",
       "      <td>0</td>\n",
       "      <td>R</td>\n",
       "      <td>88</td>\n",
       "      <td>14</td>\n",
       "      <td>2.0</td>\n",
       "      <td>30.0</td>\n",
       "      <td>0.0</td>\n",
       "      <td>2004</td>\n",
       "      <td>0.681</td>\n",
       "      <td>0.876</td>\n",
       "      <td>457</td>\n",
       "    </tr>\n",
       "    <tr>\n",
       "      <th>2</th>\n",
       "      <td>OAS2_0002_MR1</td>\n",
       "      <td>0</td>\n",
       "      <td>R</td>\n",
       "      <td>75</td>\n",
       "      <td>12</td>\n",
       "      <td>NaN</td>\n",
       "      <td>23.0</td>\n",
       "      <td>0.5</td>\n",
       "      <td>1678</td>\n",
       "      <td>0.736</td>\n",
       "      <td>1.046</td>\n",
       "      <td>0</td>\n",
       "    </tr>\n",
       "    <tr>\n",
       "      <th>3</th>\n",
       "      <td>OAS2_0002_MR2</td>\n",
       "      <td>0</td>\n",
       "      <td>R</td>\n",
       "      <td>76</td>\n",
       "      <td>12</td>\n",
       "      <td>NaN</td>\n",
       "      <td>28.0</td>\n",
       "      <td>0.5</td>\n",
       "      <td>1738</td>\n",
       "      <td>0.713</td>\n",
       "      <td>1.010</td>\n",
       "      <td>560</td>\n",
       "    </tr>\n",
       "    <tr>\n",
       "      <th>4</th>\n",
       "      <td>OAS2_0002_MR3</td>\n",
       "      <td>0</td>\n",
       "      <td>R</td>\n",
       "      <td>80</td>\n",
       "      <td>12</td>\n",
       "      <td>NaN</td>\n",
       "      <td>22.0</td>\n",
       "      <td>0.5</td>\n",
       "      <td>1698</td>\n",
       "      <td>0.701</td>\n",
       "      <td>1.034</td>\n",
       "      <td>1895</td>\n",
       "    </tr>\n",
       "    <tr>\n",
       "      <th>5</th>\n",
       "      <td>OAS2_0004_MR1</td>\n",
       "      <td>1</td>\n",
       "      <td>R</td>\n",
       "      <td>88</td>\n",
       "      <td>18</td>\n",
       "      <td>3.0</td>\n",
       "      <td>28.0</td>\n",
       "      <td>0.0</td>\n",
       "      <td>1215</td>\n",
       "      <td>0.710</td>\n",
       "      <td>1.444</td>\n",
       "      <td>0</td>\n",
       "    </tr>\n",
       "  </tbody>\n",
       "</table>\n",
       "</div>"
      ],
      "text/plain": [
       "              ID  M/F Hand  Age  Educ  SES  MMSE  CDR  eTIV   nWBV    ASF  \\\n",
       "0  OAS2_0001_MR1    0    R   87    14  2.0  27.0  0.0  1987  0.696  0.883   \n",
       "1  OAS2_0001_MR2    0    R   88    14  2.0  30.0  0.0  2004  0.681  0.876   \n",
       "2  OAS2_0002_MR1    0    R   75    12  NaN  23.0  0.5  1678  0.736  1.046   \n",
       "3  OAS2_0002_MR2    0    R   76    12  NaN  28.0  0.5  1738  0.713  1.010   \n",
       "4  OAS2_0002_MR3    0    R   80    12  NaN  22.0  0.5  1698  0.701  1.034   \n",
       "5  OAS2_0004_MR1    1    R   88    18  3.0  28.0  0.0  1215  0.710  1.444   \n",
       "\n",
       "   Delay  \n",
       "0      0  \n",
       "1    457  \n",
       "2      0  \n",
       "3    560  \n",
       "4   1895  \n",
       "5      0  "
      ]
     },
     "execution_count": 23,
     "metadata": {},
     "output_type": "execute_result"
    }
   ],
   "source": [
    "# Rename columns:MRI ID to ID, EDUC to Educ, MR Delay to Delay similar to cross-sectional MRI dataset.\n",
    "dfoasl2=dfoasl2.rename(columns={'EDUC':'Educ', 'MRI ID':'ID', 'MR Delay':'Delay'})\n",
    "dfoasl2.head(6)"
   ]
  },
  {
   "cell_type": "code",
   "execution_count": 24,
   "metadata": {},
   "outputs": [
    {
     "data": {
      "text/html": [
       "<div>\n",
       "<table border=\"1\" class=\"dataframe\">\n",
       "  <thead>\n",
       "    <tr style=\"text-align: right;\">\n",
       "      <th></th>\n",
       "      <th>ID</th>\n",
       "      <th>M/F</th>\n",
       "      <th>Hand</th>\n",
       "      <th>Age</th>\n",
       "      <th>Educ</th>\n",
       "      <th>SES</th>\n",
       "      <th>MMSE</th>\n",
       "      <th>CDR</th>\n",
       "      <th>eTIV</th>\n",
       "      <th>nWBV</th>\n",
       "      <th>ASF</th>\n",
       "      <th>Delay</th>\n",
       "    </tr>\n",
       "  </thead>\n",
       "  <tbody>\n",
       "    <tr>\n",
       "      <th>0</th>\n",
       "      <td>OAS1_0001_MR1</td>\n",
       "      <td>1</td>\n",
       "      <td>R</td>\n",
       "      <td>74</td>\n",
       "      <td>2.0</td>\n",
       "      <td>3.0</td>\n",
       "      <td>29.0</td>\n",
       "      <td>0.0</td>\n",
       "      <td>1344</td>\n",
       "      <td>0.743</td>\n",
       "      <td>1.306</td>\n",
       "      <td>NaN</td>\n",
       "    </tr>\n",
       "    <tr>\n",
       "      <th>1</th>\n",
       "      <td>OAS1_0002_MR1</td>\n",
       "      <td>1</td>\n",
       "      <td>R</td>\n",
       "      <td>55</td>\n",
       "      <td>4.0</td>\n",
       "      <td>1.0</td>\n",
       "      <td>29.0</td>\n",
       "      <td>0.0</td>\n",
       "      <td>1147</td>\n",
       "      <td>0.810</td>\n",
       "      <td>1.531</td>\n",
       "      <td>NaN</td>\n",
       "    </tr>\n",
       "    <tr>\n",
       "      <th>2</th>\n",
       "      <td>OAS1_0003_MR1</td>\n",
       "      <td>1</td>\n",
       "      <td>R</td>\n",
       "      <td>73</td>\n",
       "      <td>4.0</td>\n",
       "      <td>3.0</td>\n",
       "      <td>27.0</td>\n",
       "      <td>0.5</td>\n",
       "      <td>1454</td>\n",
       "      <td>0.708</td>\n",
       "      <td>1.207</td>\n",
       "      <td>NaN</td>\n",
       "    </tr>\n",
       "    <tr>\n",
       "      <th>3</th>\n",
       "      <td>OAS1_0004_MR1</td>\n",
       "      <td>0</td>\n",
       "      <td>R</td>\n",
       "      <td>28</td>\n",
       "      <td>NaN</td>\n",
       "      <td>NaN</td>\n",
       "      <td>NaN</td>\n",
       "      <td>NaN</td>\n",
       "      <td>1588</td>\n",
       "      <td>0.803</td>\n",
       "      <td>1.105</td>\n",
       "      <td>NaN</td>\n",
       "    </tr>\n",
       "    <tr>\n",
       "      <th>4</th>\n",
       "      <td>OAS1_0005_MR1</td>\n",
       "      <td>0</td>\n",
       "      <td>R</td>\n",
       "      <td>18</td>\n",
       "      <td>NaN</td>\n",
       "      <td>NaN</td>\n",
       "      <td>NaN</td>\n",
       "      <td>NaN</td>\n",
       "      <td>1737</td>\n",
       "      <td>0.848</td>\n",
       "      <td>1.010</td>\n",
       "      <td>NaN</td>\n",
       "    </tr>\n",
       "    <tr>\n",
       "      <th>5</th>\n",
       "      <td>OAS1_0006_MR1</td>\n",
       "      <td>1</td>\n",
       "      <td>R</td>\n",
       "      <td>24</td>\n",
       "      <td>NaN</td>\n",
       "      <td>NaN</td>\n",
       "      <td>NaN</td>\n",
       "      <td>NaN</td>\n",
       "      <td>1131</td>\n",
       "      <td>0.862</td>\n",
       "      <td>1.551</td>\n",
       "      <td>NaN</td>\n",
       "    </tr>\n",
       "  </tbody>\n",
       "</table>\n",
       "</div>"
      ],
      "text/plain": [
       "              ID  M/F Hand  Age  Educ  SES  MMSE  CDR  eTIV   nWBV    ASF  \\\n",
       "0  OAS1_0001_MR1    1    R   74   2.0  3.0  29.0  0.0  1344  0.743  1.306   \n",
       "1  OAS1_0002_MR1    1    R   55   4.0  1.0  29.0  0.0  1147  0.810  1.531   \n",
       "2  OAS1_0003_MR1    1    R   73   4.0  3.0  27.0  0.5  1454  0.708  1.207   \n",
       "3  OAS1_0004_MR1    0    R   28   NaN  NaN   NaN  NaN  1588  0.803  1.105   \n",
       "4  OAS1_0005_MR1    0    R   18   NaN  NaN   NaN  NaN  1737  0.848  1.010   \n",
       "5  OAS1_0006_MR1    1    R   24   NaN  NaN   NaN  NaN  1131  0.862  1.551   \n",
       "\n",
       "   Delay  \n",
       "0    NaN  \n",
       "1    NaN  \n",
       "2    NaN  \n",
       "3    NaN  \n",
       "4    NaN  \n",
       "5    NaN  "
      ]
     },
     "execution_count": 24,
     "metadata": {},
     "output_type": "execute_result"
    }
   ],
   "source": [
    "dfoasx.head(6)"
   ]
  },
  {
   "cell_type": "markdown",
   "metadata": {},
   "source": [
    "###### Merge the cross-sectional and the Longitudinal MRI datasets"
   ]
  },
  {
   "cell_type": "code",
   "execution_count": 25,
   "metadata": {},
   "outputs": [
    {
     "data": {
      "text/plain": [
       "(809, 12)"
      ]
     },
     "execution_count": 25,
     "metadata": {},
     "output_type": "execute_result"
    }
   ],
   "source": [
    "# Merge the cross-sectional and the longitudinal MRI datasets\n",
    "dfoas_merge = dfoasx.append(dfoasl2, ignore_index=True)\n",
    "dfoas_merge.shape"
   ]
  },
  {
   "cell_type": "code",
   "execution_count": 26,
   "metadata": {
    "collapsed": true
   },
   "outputs": [],
   "source": [
    "dfoas_merge_with_NaN= dfoas_merge"
   ]
  },
  {
   "cell_type": "markdown",
   "metadata": {},
   "source": [
    "**The merged dataset dfoas_merge has 809 rows and 12 columns**"
   ]
  },
  {
   "cell_type": "markdown",
   "metadata": {},
   "source": [
    "### Explore the merged dataset "
   ]
  },
  {
   "cell_type": "code",
   "execution_count": 27,
   "metadata": {},
   "outputs": [
    {
     "data": {
      "text/html": [
       "<div>\n",
       "<table border=\"1\" class=\"dataframe\">\n",
       "  <thead>\n",
       "    <tr style=\"text-align: right;\">\n",
       "      <th></th>\n",
       "      <th>M/F</th>\n",
       "      <th>Age</th>\n",
       "      <th>Educ</th>\n",
       "      <th>SES</th>\n",
       "      <th>MMSE</th>\n",
       "      <th>CDR</th>\n",
       "      <th>eTIV</th>\n",
       "      <th>nWBV</th>\n",
       "      <th>ASF</th>\n",
       "      <th>Delay</th>\n",
       "    </tr>\n",
       "  </thead>\n",
       "  <tbody>\n",
       "    <tr>\n",
       "      <th>count</th>\n",
       "      <td>809.000000</td>\n",
       "      <td>809.000000</td>\n",
       "      <td>608.000000</td>\n",
       "      <td>570.00000</td>\n",
       "      <td>606.000000</td>\n",
       "      <td>608.000000</td>\n",
       "      <td>809.000000</td>\n",
       "      <td>809.000000</td>\n",
       "      <td>809.000000</td>\n",
       "      <td>393.000000</td>\n",
       "    </tr>\n",
       "    <tr>\n",
       "      <th>mean</th>\n",
       "      <td>0.594561</td>\n",
       "      <td>63.186650</td>\n",
       "      <td>10.184211</td>\n",
       "      <td>2.47193</td>\n",
       "      <td>27.234323</td>\n",
       "      <td>0.288651</td>\n",
       "      <td>1484.782447</td>\n",
       "      <td>0.763037</td>\n",
       "      <td>1.197311</td>\n",
       "      <td>565.865140</td>\n",
       "    </tr>\n",
       "    <tr>\n",
       "      <th>std</th>\n",
       "      <td>0.491280</td>\n",
       "      <td>23.117511</td>\n",
       "      <td>6.058388</td>\n",
       "      <td>1.12805</td>\n",
       "      <td>3.687980</td>\n",
       "      <td>0.377697</td>\n",
       "      <td>166.911689</td>\n",
       "      <td>0.059401</td>\n",
       "      <td>0.133031</td>\n",
       "      <td>631.862452</td>\n",
       "    </tr>\n",
       "    <tr>\n",
       "      <th>min</th>\n",
       "      <td>0.000000</td>\n",
       "      <td>18.000000</td>\n",
       "      <td>1.000000</td>\n",
       "      <td>1.00000</td>\n",
       "      <td>4.000000</td>\n",
       "      <td>0.000000</td>\n",
       "      <td>1106.000000</td>\n",
       "      <td>0.644000</td>\n",
       "      <td>0.876000</td>\n",
       "      <td>0.000000</td>\n",
       "    </tr>\n",
       "    <tr>\n",
       "      <th>25%</th>\n",
       "      <td>0.000000</td>\n",
       "      <td>49.000000</td>\n",
       "      <td>4.000000</td>\n",
       "      <td>2.00000</td>\n",
       "      <td>26.000000</td>\n",
       "      <td>0.000000</td>\n",
       "      <td>1361.000000</td>\n",
       "      <td>0.715000</td>\n",
       "      <td>1.108000</td>\n",
       "      <td>0.000000</td>\n",
       "    </tr>\n",
       "    <tr>\n",
       "      <th>50%</th>\n",
       "      <td>1.000000</td>\n",
       "      <td>72.000000</td>\n",
       "      <td>12.000000</td>\n",
       "      <td>2.00000</td>\n",
       "      <td>29.000000</td>\n",
       "      <td>0.000000</td>\n",
       "      <td>1475.000000</td>\n",
       "      <td>0.754000</td>\n",
       "      <td>1.190000</td>\n",
       "      <td>497.000000</td>\n",
       "    </tr>\n",
       "    <tr>\n",
       "      <th>75%</th>\n",
       "      <td>1.000000</td>\n",
       "      <td>80.000000</td>\n",
       "      <td>16.000000</td>\n",
       "      <td>3.00000</td>\n",
       "      <td>30.000000</td>\n",
       "      <td>0.500000</td>\n",
       "      <td>1583.000000</td>\n",
       "      <td>0.817000</td>\n",
       "      <td>1.290000</td>\n",
       "      <td>846.000000</td>\n",
       "    </tr>\n",
       "    <tr>\n",
       "      <th>max</th>\n",
       "      <td>1.000000</td>\n",
       "      <td>98.000000</td>\n",
       "      <td>23.000000</td>\n",
       "      <td>5.00000</td>\n",
       "      <td>30.000000</td>\n",
       "      <td>2.000000</td>\n",
       "      <td>2004.000000</td>\n",
       "      <td>0.893000</td>\n",
       "      <td>1.587000</td>\n",
       "      <td>2639.000000</td>\n",
       "    </tr>\n",
       "  </tbody>\n",
       "</table>\n",
       "</div>"
      ],
      "text/plain": [
       "              M/F         Age        Educ        SES        MMSE         CDR  \\\n",
       "count  809.000000  809.000000  608.000000  570.00000  606.000000  608.000000   \n",
       "mean     0.594561   63.186650   10.184211    2.47193   27.234323    0.288651   \n",
       "std      0.491280   23.117511    6.058388    1.12805    3.687980    0.377697   \n",
       "min      0.000000   18.000000    1.000000    1.00000    4.000000    0.000000   \n",
       "25%      0.000000   49.000000    4.000000    2.00000   26.000000    0.000000   \n",
       "50%      1.000000   72.000000   12.000000    2.00000   29.000000    0.000000   \n",
       "75%      1.000000   80.000000   16.000000    3.00000   30.000000    0.500000   \n",
       "max      1.000000   98.000000   23.000000    5.00000   30.000000    2.000000   \n",
       "\n",
       "              eTIV        nWBV         ASF        Delay  \n",
       "count   809.000000  809.000000  809.000000   393.000000  \n",
       "mean   1484.782447    0.763037    1.197311   565.865140  \n",
       "std     166.911689    0.059401    0.133031   631.862452  \n",
       "min    1106.000000    0.644000    0.876000     0.000000  \n",
       "25%    1361.000000    0.715000    1.108000     0.000000  \n",
       "50%    1475.000000    0.754000    1.190000   497.000000  \n",
       "75%    1583.000000    0.817000    1.290000   846.000000  \n",
       "max    2004.000000    0.893000    1.587000  2639.000000  "
      ]
     },
     "execution_count": 27,
     "metadata": {},
     "output_type": "execute_result"
    }
   ],
   "source": [
    "dfoas_merge.describe()"
   ]
  },
  {
   "cell_type": "code",
   "execution_count": 28,
   "metadata": {
    "collapsed": true
   },
   "outputs": [],
   "source": [
    "# Replace NaN values for the Delay column to dataset average of 555 to facilitate removal of rows with any NaN later.\n",
    "dfoas_merge['Delay'] = dfoas_merge['Delay'].replace(np.NaN, 555)"
   ]
  },
  {
   "cell_type": "code",
   "execution_count": 29,
   "metadata": {},
   "outputs": [
    {
     "data": {
      "text/html": [
       "<div>\n",
       "<table border=\"1\" class=\"dataframe\">\n",
       "  <thead>\n",
       "    <tr style=\"text-align: right;\">\n",
       "      <th></th>\n",
       "      <th>ID</th>\n",
       "      <th>M/F</th>\n",
       "      <th>Hand</th>\n",
       "      <th>Age</th>\n",
       "      <th>Educ</th>\n",
       "      <th>SES</th>\n",
       "      <th>MMSE</th>\n",
       "      <th>CDR</th>\n",
       "      <th>eTIV</th>\n",
       "      <th>nWBV</th>\n",
       "      <th>ASF</th>\n",
       "      <th>Delay</th>\n",
       "    </tr>\n",
       "  </thead>\n",
       "  <tbody>\n",
       "    <tr>\n",
       "      <th>0</th>\n",
       "      <td>OAS1_0001_MR1</td>\n",
       "      <td>1</td>\n",
       "      <td>R</td>\n",
       "      <td>74</td>\n",
       "      <td>2.0</td>\n",
       "      <td>3.0</td>\n",
       "      <td>29.0</td>\n",
       "      <td>0.0</td>\n",
       "      <td>1344</td>\n",
       "      <td>0.743</td>\n",
       "      <td>1.306</td>\n",
       "      <td>555.0</td>\n",
       "    </tr>\n",
       "    <tr>\n",
       "      <th>1</th>\n",
       "      <td>OAS1_0002_MR1</td>\n",
       "      <td>1</td>\n",
       "      <td>R</td>\n",
       "      <td>55</td>\n",
       "      <td>4.0</td>\n",
       "      <td>1.0</td>\n",
       "      <td>29.0</td>\n",
       "      <td>0.0</td>\n",
       "      <td>1147</td>\n",
       "      <td>0.810</td>\n",
       "      <td>1.531</td>\n",
       "      <td>555.0</td>\n",
       "    </tr>\n",
       "    <tr>\n",
       "      <th>2</th>\n",
       "      <td>OAS1_0003_MR1</td>\n",
       "      <td>1</td>\n",
       "      <td>R</td>\n",
       "      <td>73</td>\n",
       "      <td>4.0</td>\n",
       "      <td>3.0</td>\n",
       "      <td>27.0</td>\n",
       "      <td>0.5</td>\n",
       "      <td>1454</td>\n",
       "      <td>0.708</td>\n",
       "      <td>1.207</td>\n",
       "      <td>555.0</td>\n",
       "    </tr>\n",
       "    <tr>\n",
       "      <th>3</th>\n",
       "      <td>OAS1_0004_MR1</td>\n",
       "      <td>0</td>\n",
       "      <td>R</td>\n",
       "      <td>28</td>\n",
       "      <td>NaN</td>\n",
       "      <td>NaN</td>\n",
       "      <td>NaN</td>\n",
       "      <td>NaN</td>\n",
       "      <td>1588</td>\n",
       "      <td>0.803</td>\n",
       "      <td>1.105</td>\n",
       "      <td>555.0</td>\n",
       "    </tr>\n",
       "    <tr>\n",
       "      <th>4</th>\n",
       "      <td>OAS1_0005_MR1</td>\n",
       "      <td>0</td>\n",
       "      <td>R</td>\n",
       "      <td>18</td>\n",
       "      <td>NaN</td>\n",
       "      <td>NaN</td>\n",
       "      <td>NaN</td>\n",
       "      <td>NaN</td>\n",
       "      <td>1737</td>\n",
       "      <td>0.848</td>\n",
       "      <td>1.010</td>\n",
       "      <td>555.0</td>\n",
       "    </tr>\n",
       "    <tr>\n",
       "      <th>5</th>\n",
       "      <td>OAS1_0006_MR1</td>\n",
       "      <td>1</td>\n",
       "      <td>R</td>\n",
       "      <td>24</td>\n",
       "      <td>NaN</td>\n",
       "      <td>NaN</td>\n",
       "      <td>NaN</td>\n",
       "      <td>NaN</td>\n",
       "      <td>1131</td>\n",
       "      <td>0.862</td>\n",
       "      <td>1.551</td>\n",
       "      <td>555.0</td>\n",
       "    </tr>\n",
       "    <tr>\n",
       "      <th>6</th>\n",
       "      <td>OAS1_0007_MR1</td>\n",
       "      <td>0</td>\n",
       "      <td>R</td>\n",
       "      <td>21</td>\n",
       "      <td>NaN</td>\n",
       "      <td>NaN</td>\n",
       "      <td>NaN</td>\n",
       "      <td>NaN</td>\n",
       "      <td>1516</td>\n",
       "      <td>0.830</td>\n",
       "      <td>1.157</td>\n",
       "      <td>555.0</td>\n",
       "    </tr>\n",
       "    <tr>\n",
       "      <th>7</th>\n",
       "      <td>OAS1_0009_MR1</td>\n",
       "      <td>1</td>\n",
       "      <td>R</td>\n",
       "      <td>20</td>\n",
       "      <td>NaN</td>\n",
       "      <td>NaN</td>\n",
       "      <td>NaN</td>\n",
       "      <td>NaN</td>\n",
       "      <td>1505</td>\n",
       "      <td>0.843</td>\n",
       "      <td>1.166</td>\n",
       "      <td>555.0</td>\n",
       "    </tr>\n",
       "    <tr>\n",
       "      <th>8</th>\n",
       "      <td>OAS1_0010_MR1</td>\n",
       "      <td>0</td>\n",
       "      <td>R</td>\n",
       "      <td>74</td>\n",
       "      <td>5.0</td>\n",
       "      <td>2.0</td>\n",
       "      <td>30.0</td>\n",
       "      <td>0.0</td>\n",
       "      <td>1636</td>\n",
       "      <td>0.689</td>\n",
       "      <td>1.073</td>\n",
       "      <td>555.0</td>\n",
       "    </tr>\n",
       "    <tr>\n",
       "      <th>9</th>\n",
       "      <td>OAS1_0011_MR1</td>\n",
       "      <td>1</td>\n",
       "      <td>R</td>\n",
       "      <td>52</td>\n",
       "      <td>3.0</td>\n",
       "      <td>2.0</td>\n",
       "      <td>30.0</td>\n",
       "      <td>0.0</td>\n",
       "      <td>1321</td>\n",
       "      <td>0.827</td>\n",
       "      <td>1.329</td>\n",
       "      <td>555.0</td>\n",
       "    </tr>\n",
       "  </tbody>\n",
       "</table>\n",
       "</div>"
      ],
      "text/plain": [
       "              ID  M/F Hand  Age  Educ  SES  MMSE  CDR  eTIV   nWBV    ASF  \\\n",
       "0  OAS1_0001_MR1    1    R   74   2.0  3.0  29.0  0.0  1344  0.743  1.306   \n",
       "1  OAS1_0002_MR1    1    R   55   4.0  1.0  29.0  0.0  1147  0.810  1.531   \n",
       "2  OAS1_0003_MR1    1    R   73   4.0  3.0  27.0  0.5  1454  0.708  1.207   \n",
       "3  OAS1_0004_MR1    0    R   28   NaN  NaN   NaN  NaN  1588  0.803  1.105   \n",
       "4  OAS1_0005_MR1    0    R   18   NaN  NaN   NaN  NaN  1737  0.848  1.010   \n",
       "5  OAS1_0006_MR1    1    R   24   NaN  NaN   NaN  NaN  1131  0.862  1.551   \n",
       "6  OAS1_0007_MR1    0    R   21   NaN  NaN   NaN  NaN  1516  0.830  1.157   \n",
       "7  OAS1_0009_MR1    1    R   20   NaN  NaN   NaN  NaN  1505  0.843  1.166   \n",
       "8  OAS1_0010_MR1    0    R   74   5.0  2.0  30.0  0.0  1636  0.689  1.073   \n",
       "9  OAS1_0011_MR1    1    R   52   3.0  2.0  30.0  0.0  1321  0.827  1.329   \n",
       "\n",
       "   Delay  \n",
       "0  555.0  \n",
       "1  555.0  \n",
       "2  555.0  \n",
       "3  555.0  \n",
       "4  555.0  \n",
       "5  555.0  \n",
       "6  555.0  \n",
       "7  555.0  \n",
       "8  555.0  \n",
       "9  555.0  "
      ]
     },
     "execution_count": 29,
     "metadata": {},
     "output_type": "execute_result"
    }
   ],
   "source": [
    "dfoas_merge.head(10)"
   ]
  },
  {
   "cell_type": "code",
   "execution_count": 30,
   "metadata": {},
   "outputs": [
    {
     "data": {
      "text/plain": [
       "ID        object\n",
       "M/F        int64\n",
       "Hand      object\n",
       "Age        int64\n",
       "Educ     float64\n",
       "SES      float64\n",
       "MMSE     float64\n",
       "CDR      float64\n",
       "eTIV       int64\n",
       "nWBV     float64\n",
       "ASF      float64\n",
       "Delay    float64\n",
       "dtype: object"
      ]
     },
     "execution_count": 30,
     "metadata": {},
     "output_type": "execute_result"
    }
   ],
   "source": [
    "dfoas_merge.dtypes"
   ]
  },
  {
   "cell_type": "markdown",
   "metadata": {},
   "source": [
    "##### Drop rows in the merged dataset with NaN in any column. We see that there are 809-570=239 rows with NaN values in any column."
   ]
  },
  {
   "cell_type": "code",
   "execution_count": 31,
   "metadata": {
    "collapsed": true
   },
   "outputs": [],
   "source": [
    "# Drop rows with NaN\n",
    "dfoas_merge=dfoas_merge.dropna(how='any') "
   ]
  },
  {
   "cell_type": "code",
   "execution_count": 32,
   "metadata": {},
   "outputs": [
    {
     "data": {
      "text/plain": [
       "(570, 12)"
      ]
     },
     "execution_count": 32,
     "metadata": {},
     "output_type": "execute_result"
    }
   ],
   "source": [
    "dfoas_merge.shape"
   ]
  },
  {
   "cell_type": "code",
   "execution_count": 33,
   "metadata": {},
   "outputs": [
    {
     "data": {
      "text/plain": [
       "ID        object\n",
       "M/F        int64\n",
       "Hand      object\n",
       "Age        int64\n",
       "Educ     float64\n",
       "SES      float64\n",
       "MMSE     float64\n",
       "CDR      float64\n",
       "eTIV       int64\n",
       "nWBV     float64\n",
       "ASF      float64\n",
       "Delay    float64\n",
       "dtype: object"
      ]
     },
     "execution_count": 33,
     "metadata": {},
     "output_type": "execute_result"
    }
   ],
   "source": [
    "dfoas_merge.dtypes"
   ]
  },
  {
   "cell_type": "code",
   "execution_count": 34,
   "metadata": {},
   "outputs": [
    {
     "data": {
      "text/html": [
       "<div>\n",
       "<table border=\"1\" class=\"dataframe\">\n",
       "  <thead>\n",
       "    <tr style=\"text-align: right;\">\n",
       "      <th></th>\n",
       "      <th>ID</th>\n",
       "      <th>M/F</th>\n",
       "      <th>Hand</th>\n",
       "      <th>Age</th>\n",
       "      <th>Educ</th>\n",
       "      <th>SES</th>\n",
       "      <th>MMSE</th>\n",
       "      <th>CDR</th>\n",
       "      <th>eTIV</th>\n",
       "      <th>nWBV</th>\n",
       "      <th>ASF</th>\n",
       "      <th>Delay</th>\n",
       "    </tr>\n",
       "  </thead>\n",
       "  <tbody>\n",
       "    <tr>\n",
       "      <th>0</th>\n",
       "      <td>OAS1_0001_MR1</td>\n",
       "      <td>1</td>\n",
       "      <td>R</td>\n",
       "      <td>74</td>\n",
       "      <td>2.0</td>\n",
       "      <td>3.0</td>\n",
       "      <td>29.0</td>\n",
       "      <td>0.0</td>\n",
       "      <td>1344</td>\n",
       "      <td>0.743</td>\n",
       "      <td>1.306</td>\n",
       "      <td>555.0</td>\n",
       "    </tr>\n",
       "    <tr>\n",
       "      <th>1</th>\n",
       "      <td>OAS1_0002_MR1</td>\n",
       "      <td>1</td>\n",
       "      <td>R</td>\n",
       "      <td>55</td>\n",
       "      <td>4.0</td>\n",
       "      <td>1.0</td>\n",
       "      <td>29.0</td>\n",
       "      <td>0.0</td>\n",
       "      <td>1147</td>\n",
       "      <td>0.810</td>\n",
       "      <td>1.531</td>\n",
       "      <td>555.0</td>\n",
       "    </tr>\n",
       "    <tr>\n",
       "      <th>2</th>\n",
       "      <td>OAS1_0003_MR1</td>\n",
       "      <td>1</td>\n",
       "      <td>R</td>\n",
       "      <td>73</td>\n",
       "      <td>4.0</td>\n",
       "      <td>3.0</td>\n",
       "      <td>27.0</td>\n",
       "      <td>0.5</td>\n",
       "      <td>1454</td>\n",
       "      <td>0.708</td>\n",
       "      <td>1.207</td>\n",
       "      <td>555.0</td>\n",
       "    </tr>\n",
       "    <tr>\n",
       "      <th>8</th>\n",
       "      <td>OAS1_0010_MR1</td>\n",
       "      <td>0</td>\n",
       "      <td>R</td>\n",
       "      <td>74</td>\n",
       "      <td>5.0</td>\n",
       "      <td>2.0</td>\n",
       "      <td>30.0</td>\n",
       "      <td>0.0</td>\n",
       "      <td>1636</td>\n",
       "      <td>0.689</td>\n",
       "      <td>1.073</td>\n",
       "      <td>555.0</td>\n",
       "    </tr>\n",
       "    <tr>\n",
       "      <th>9</th>\n",
       "      <td>OAS1_0011_MR1</td>\n",
       "      <td>1</td>\n",
       "      <td>R</td>\n",
       "      <td>52</td>\n",
       "      <td>3.0</td>\n",
       "      <td>2.0</td>\n",
       "      <td>30.0</td>\n",
       "      <td>0.0</td>\n",
       "      <td>1321</td>\n",
       "      <td>0.827</td>\n",
       "      <td>1.329</td>\n",
       "      <td>555.0</td>\n",
       "    </tr>\n",
       "    <tr>\n",
       "      <th>11</th>\n",
       "      <td>OAS1_0013_MR1</td>\n",
       "      <td>1</td>\n",
       "      <td>R</td>\n",
       "      <td>81</td>\n",
       "      <td>5.0</td>\n",
       "      <td>2.0</td>\n",
       "      <td>30.0</td>\n",
       "      <td>0.0</td>\n",
       "      <td>1664</td>\n",
       "      <td>0.679</td>\n",
       "      <td>1.055</td>\n",
       "      <td>555.0</td>\n",
       "    </tr>\n",
       "  </tbody>\n",
       "</table>\n",
       "</div>"
      ],
      "text/plain": [
       "               ID  M/F Hand  Age  Educ  SES  MMSE  CDR  eTIV   nWBV    ASF  \\\n",
       "0   OAS1_0001_MR1    1    R   74   2.0  3.0  29.0  0.0  1344  0.743  1.306   \n",
       "1   OAS1_0002_MR1    1    R   55   4.0  1.0  29.0  0.0  1147  0.810  1.531   \n",
       "2   OAS1_0003_MR1    1    R   73   4.0  3.0  27.0  0.5  1454  0.708  1.207   \n",
       "8   OAS1_0010_MR1    0    R   74   5.0  2.0  30.0  0.0  1636  0.689  1.073   \n",
       "9   OAS1_0011_MR1    1    R   52   3.0  2.0  30.0  0.0  1321  0.827  1.329   \n",
       "11  OAS1_0013_MR1    1    R   81   5.0  2.0  30.0  0.0  1664  0.679  1.055   \n",
       "\n",
       "    Delay  \n",
       "0   555.0  \n",
       "1   555.0  \n",
       "2   555.0  \n",
       "8   555.0  \n",
       "9   555.0  \n",
       "11  555.0  "
      ]
     },
     "execution_count": 34,
     "metadata": {},
     "output_type": "execute_result"
    }
   ],
   "source": [
    "dfoas_merge.head(6)"
   ]
  },
  {
   "cell_type": "code",
   "execution_count": 35,
   "metadata": {},
   "outputs": [
    {
     "name": "stdout",
     "output_type": "stream",
     "text": [
      "<class 'pandas.core.frame.DataFrame'>\n",
      "Int64Index: 570 entries, 0 to 808\n",
      "Data columns (total 12 columns):\n",
      "ID       570 non-null object\n",
      "M/F      570 non-null int64\n",
      "Hand     570 non-null object\n",
      "Age      570 non-null int64\n",
      "Educ     570 non-null float64\n",
      "SES      570 non-null float64\n",
      "MMSE     570 non-null float64\n",
      "CDR      570 non-null float64\n",
      "eTIV     570 non-null int64\n",
      "nWBV     570 non-null float64\n",
      "ASF      570 non-null float64\n",
      "Delay    570 non-null float64\n",
      "dtypes: float64(7), int64(3), object(2)\n",
      "memory usage: 57.9+ KB\n"
     ]
    }
   ],
   "source": [
    "dfoas_merge.info()"
   ]
  },
  {
   "cell_type": "code",
   "execution_count": 36,
   "metadata": {},
   "outputs": [
    {
     "name": "stdout",
     "output_type": "stream",
     "text": [
      "339 , 167\n",
      "59 , 5\n"
     ]
    }
   ],
   "source": [
    "print (dfoas_merge.CDR[(dfoas_merge.CDR == 0.0)].count(),\",\", dfoas_merge.CDR[(dfoas_merge.CDR == 0.5)].count()),\n",
    "print (dfoas_merge.CDR[(dfoas_merge.CDR == 1.0)].count(),\",\", dfoas_merge.CDR[(dfoas_merge.CDR == 2)].count())"
   ]
  },
  {
   "cell_type": "markdown",
   "metadata": {},
   "source": [
    " **We see from above exploratory results that the combined cross-sectional and longitudinal datasets have 339 records for CDR=0.0, 167 records for CDR=0.5, 59 records for CDR=1.0, and 5 records for CDR=2. Thus the labels are not balanced.  thus the metric reported will be Confusion Matrix (sensitivity, specificity, recall, and support) from sklearn. Classification accuracy will also be included as a reference value.**"
   ]
  },
  {
   "cell_type": "markdown",
   "metadata": {},
   "source": [
    "### Exploratory Visualization\n",
    "A visualization has been provided that summarizes or extracts a relevant characteristic or feature about the dataset or input data with thorough discussion. Visual cues are clearly defined."
   ]
  },
  {
   "cell_type": "code",
   "execution_count": 37,
   "metadata": {},
   "outputs": [
    {
     "data": {
      "image/png": "[encoded data removed]",
      "text/plain": [
       "<matplotlib.figure.Figure at 0x207a5fce320>"
      ]
     },
     "metadata": {},
     "output_type": "display_data"
    }
   ],
   "source": [
    "from matplotlib import pyplot\n",
    "dfoas_merge.hist()\n",
    "fig_size = pyplot.rcParams[\"figure.figsize\"]\n",
    "fig_size[0] = 10\n",
    "fig_size[1] = 14\n",
    "pyplot.rcParams[\"figure.figsize\"] = fig_size\n",
    "pyplot.show()"
   ]
  },
  {
   "cell_type": "code",
   "execution_count": 38,
   "metadata": {},
   "outputs": [
    {
     "data": {
      "image/png": "[encoded data removed]",
      "text/plain": [
       "<matplotlib.figure.Figure at 0x207a62e05c0>"
      ]
     },
     "metadata": {},
     "output_type": "display_data"
    }
   ],
   "source": [
    "# http://pandas.pydata.org/pandas-docs/stable/generated/pandas.DataFrame.plot.html?highlight=plot\n",
    "# Univariate Density Plots\n",
    "from matplotlib import pyplot\n",
    "dfoas_merge.plot(kind='density', subplots=True, layout=(3, 4), figsize=(12, 8), sharex=False)\n",
    "pyplot.show();"
   ]
  },
  {
   "cell_type": "code",
   "execution_count": 39,
   "metadata": {},
   "outputs": [
    {
     "data": {
      "image/png": "[encoded data removed]",
      "text/plain": [
       "<matplotlib.figure.Figure at 0x207a619ed30>"
      ]
     },
     "metadata": {},
     "output_type": "display_data"
    }
   ],
   "source": [
    "dfoas_merge.plot(kind='box', subplots=True, layout=(3, 4), figsize=(12, 8), sharex=False, sharey=False)\n",
    "pyplot.show();"
   ]
  },
  {
   "cell_type": "markdown",
   "metadata": {},
   "source": [
    "From the histogram. density plots, and box plots for the feature variables, we note the following:\n",
    "Age, eTIV, nWBV, and ASF have approximately normal distribution. The feature variables M/F, Educ, and SES have bi-modal or multimodal distribution."
   ]
  },
  {
   "cell_type": "code",
   "execution_count": 40,
   "metadata": {},
   "outputs": [
    {
     "data": {
      "image/png": "[encoded data removed]",
      "text/plain": [
       "<matplotlib.figure.Figure at 0x207a605eeb8>"
      ]
     },
     "metadata": {},
     "output_type": "display_data"
    }
   ],
   "source": [
    "# Scatterplot Matrix\n",
    "from matplotlib import pyplot\n",
    "from pandas import read_csv\n",
    "from pandas.tools.plotting import scatter_matrix\n",
    "scatter_matrix(dfoas_merge, alpha=0.2, figsize=(12, 12))\n",
    "pyplot.show();"
   ]
  },
  {
   "cell_type": "markdown",
   "metadata": {},
   "source": [
    "### Feature Selection Methodology"
   ]
  },
  {
   "cell_type": "code",
   "execution_count": 41,
   "metadata": {},
   "outputs": [
    {
     "data": {
      "text/plain": [
       "<matplotlib.figure.Figure at 0x207aa4a00b8>"
      ]
     },
     "metadata": {},
     "output_type": "display_data"
    },
    {
     "data": {
      "image/png": "[encoded data removed]",
      "text/plain": [
       "<matplotlib.figure.Figure at 0x207ab968ef0>"
      ]
     },
     "metadata": {},
     "output_type": "display_data"
    }
   ],
   "source": [
    "# Correlation Matrix Plot\n",
    "from matplotlib import pyplot\n",
    "from matplotlib import cm\n",
    "import numpy as np\n",
    "correlations = dfoas_merge.corr()\n",
    "# plot correlation matrix\n",
    "figoasx = pyplot.figure()\n",
    "cm = pyplot.cm.bwr\n",
    "fig = pyplot.figure()\n",
    "ax = fig.add_subplot(111);\n",
    "cax = ax.matshow(correlations, cmap=cm, vmin=-1, vmax=1);\n",
    "ticks = np.arange(0,9,1);\n",
    "names= list(dfoas_merge.columns.values)\n",
    "ax.set_xticks(ticks)\n",
    "ax.set_yticks(ticks)\n",
    "ax.set_xticklabels(names)\n",
    "ax.set_yticklabels(names)\n",
    "fig.set_figheight(10)\n",
    "fig.set_figwidth(10)\n",
    "pyplot.show();"
   ]
  },
  {
   "cell_type": "markdown",
   "metadata": {},
   "source": [
    "## Methodology - Select Training and Test/Validation Sets"
   ]
  },
  {
   "cell_type": "code",
   "execution_count": 42,
   "metadata": {},
   "outputs": [
    {
     "name": "stdout",
     "output_type": "stream",
     "text": [
      "[[1 74 2.0 ..., 1344 0.743 1.306]\n",
      " [1 55 4.0 ..., 1147 0.81 1.531]\n",
      " [1 73 4.0 ..., 1454 0.708 1.207]\n",
      " ..., \n",
      " [1 61 13.0 ..., 1319 0.8009999999999999 1.331]\n",
      " [1 63 13.0 ..., 1327 0.7959999999999999 1.3230000000000002]\n",
      " [1 65 13.0 ..., 1333 0.8009999999999999 1.317]]\n",
      "['0.0' '0.0' '0.5' '0.0' '0.0' '0.0' '0.5' '0.0' '0.0' '0.0' '0.5' '0.5'\n",
      " '0.5' '0.0' '1.0' '0.0' '1.0' '0.0' '0.0' '0.0' '1.0' '0.5' '0.5' '0.0'\n",
      " '1.0' '1.0' '1.0' '0.0' '0.0' '0.0' '0.0' '0.5' '1.0' '0.0' '0.0' '0.0'\n",
      " '0.0' '0.0' '1.0' '0.0' '0.0' '0.5' '0.0' '0.0' '0.0' '0.5' '0.0' '0.0'\n",
      " '0.0' '0.0' '0.0' '0.0' '0.0' '0.5' '0.0' '0.5' '1.0' '0.5' '0.0' '0.0'\n",
      " '1.0' '0.0' '1.0' '0.0' '0.0' '0.5' '0.5' '0.0' '0.0' '0.5' '0.5' '0.5'\n",
      " '0.0' '0.0' '0.0' '0.0' '0.0' '0.5' '0.0' '0.0' '1.0' '0.0' '0.0' '0.0'\n",
      " '0.0' '0.0' '0.0' '0.0' '0.0' '0.0' '0.5' '0.0' '0.0' '0.0' '0.5' '0.0'\n",
      " '0.5' '0.0' '0.0' '0.5' '0.0' '0.0' '0.5' '0.0' '0.0' '0.5' '0.0' '0.5'\n",
      " '0.0' '0.5' '0.0' '0.0' '0.0' '0.0' '0.0' '0.0' '0.5' '0.0' '0.5' '1.0'\n",
      " '1.0' '0.0' '0.0' '0.5' '0.5' '0.0' '1.0' '0.0' '0.0' '0.0' '0.5' '0.5'\n",
      " '0.5' '0.0' '0.5' '1.0' '0.0' '0.0' '0.5' '0.0' '0.5' '0.0' '0.0' '0.5'\n",
      " '0.5' '2.0' '0.0' '0.5' '1.0' '0.0' '0.0' '0.0' '0.0' '0.5' '0.0' '0.0'\n",
      " '0.5' '0.0' '0.0' '0.0' '0.0' '0.0' '0.0' '2.0' '0.5' '0.0' '0.0' '0.0'\n",
      " '0.0' '0.0' '0.0' '0.0' '0.0' '0.0' '0.0' '0.0' '0.0' '1.0' '0.5' '0.0'\n",
      " '0.5' '0.0' '1.0' '0.5' '0.0' '0.5' '0.0' '0.5' '0.0' '1.0' '0.5' '0.5'\n",
      " '0.0' '0.0' '1.0' '1.0' '0.0' '0.0' '1.0' '0.5' '0.0' '0.0' '0.5' '0.5'\n",
      " '0.0' '0.0' '0.0' '0.5' '0.0' '0.5' '1.0' '0.5' '0.5' '0.0' '0.0' '0.0'\n",
      " '0.0' '0.0' '0.0' '0.0' '0.0' '0.5' '0.0' '0.0' '0.0' '0.5' '0.5' '0.5'\n",
      " '0.5' '0.0' '0.0' '0.0' '0.0' '0.0' '0.0' '0.5' '1.0' '0.5' '0.5' '0.0'\n",
      " '0.5' '0.0' '0.0' '0.0' '0.0' '0.5' '0.0' '0.5' '0.5' '0.5' '0.5' '0.0'\n",
      " '0.0' '0.5' '0.5' '0.5' '0.5' '0.0' '0.0' '0.0' '0.0' '0.5' '1.0' '0.0'\n",
      " '0.0' '0.0' '0.0' '0.0' '0.0' '0.5' '0.5' '0.5' '0.0' '0.0' '0.0' '0.0'\n",
      " '0.0' '0.0' '0.0' '0.0' '0.0' '0.0' '0.5' '0.5' '0.5' '0.5' '0.5' '0.5'\n",
      " '0.5' '0.5' '0.5' '0.0' '0.0' '0.5' '0.0' '0.0' '0.5' '0.5' '1.0' '1.0'\n",
      " '1.0' '0.0' '0.0' '0.5' '1.0' '0.0' '0.0' '1.0' '1.0' '1.0' '1.0' '1.0'\n",
      " '0.0' '0.0' '0.0' '0.5' '1.0' '0.0' '0.0' '0.0' '0.0' '0.0' '0.0' '0.0'\n",
      " '0.0' '0.5' '0.0' '0.0' '0.0' '0.0' '0.0' '0.0' '0.0' '0.5' '0.5' '0.5'\n",
      " '0.5' '0.5' '0.0' '0.0' '0.0' '0.0' '0.0' '0.0' '1.0' '0.5' '0.5' '1.0'\n",
      " '0.5' '0.0' '0.0' '0.0' '0.0' '0.0' '0.0' '0.0' '0.0' '0.0' '0.0' '0.0'\n",
      " '0.0' '0.0' '1.0' '1.0' '0.0' '0.0' '0.0' '0.0' '0.0' '0.5' '0.5' '0.0'\n",
      " '0.0' '0.0' '0.0' '0.0' '0.0' '0.0' '0.0' '0.5' '1.0' '1.0' '0.5' '0.5'\n",
      " '0.5' '0.5' '0.5' '0.0' '0.0' '0.0' '0.0' '1.0' '2.0' '1.0' '1.0' '0.5'\n",
      " '1.0' '0.0' '0.0' '0.0' '0.0' '0.0' '0.0' '0.5' '0.0' '0.0' '0.0' '0.0'\n",
      " '0.0' '0.0' '0.0' '0.0' '0.0' '0.5' '0.5' '0.0' '0.0' '0.0' '0.0' '0.0'\n",
      " '0.0' '0.5' '0.5' '0.5' '0.0' '0.5' '0.5' '0.5' '1.0' '0.0' '0.0' '1.0'\n",
      " '1.0' '0.5' '0.5' '0.0' '0.0' '0.5' '0.5' '0.5' '0.5' '0.5' '0.5' '0.5'\n",
      " '0.5' '0.0' '0.0' '0.0' '0.0' '0.0' '0.5' '0.0' '0.0' '0.0' '1.0' '2.0'\n",
      " '0.0' '0.0' '0.0' '0.0' '0.5' '0.5' '0.0' '0.0' '0.0' '0.0' '0.5' '0.5'\n",
      " '0.5' '0.5' '0.0' '0.0' '0.0' '0.0' '0.0' '0.5' '0.0' '0.0' '0.5' '0.5'\n",
      " '0.5' '0.0' '0.0' '0.5' '0.5' '0.0' '0.0' '0.5' '0.5' '0.5' '0.5' '0.5'\n",
      " '0.0' '0.0' '0.0' '0.0' '0.0' '0.0' '0.0' '0.0' '0.5' '0.0' '0.5' '1.0'\n",
      " '1.0' '0.0' '0.0' '0.0' '0.0' '0.0' '0.0' '0.5' '1.0' '0.0' '0.0' '0.0'\n",
      " '0.0' '0.0' '0.0' '0.0' '1.0' '1.0' '0.0' '0.0' '0.5' '0.5' '0.0' '0.0'\n",
      " '0.0' '0.5' '0.5' '1.0' '2.0' '1.0' '1.0' '0.0' '0.0' '0.0' '0.0' '0.0'\n",
      " '0.5' '0.5' '0.0' '0.0' '0.0' '0.5' '0.5' '0.5' '0.0' '0.0' '0.5' '0.0'\n",
      " '0.0' '0.0' '0.0' '0.0' '0.5' '0.5' '0.0' '0.0' '0.0' '0.0' '0.5' '1.0'\n",
      " '0.5' '0.5' '0.5' '0.0' '0.0' '0.0']\n"
     ]
    }
   ],
   "source": [
    "# Split the dataset into a training set and a validation set\n",
    "#Create an array from the dataset column values\n",
    "array = dfoas_merge.values\n",
    "#X = array[:,[1, 3, 4, 5, 6, 8, 9, 10]] Backup/extra\n",
    "# Array indices 1 through 11 refer to the following features:\n",
    "# [M/F  Hand  Age  Educ  SES  MMSE  CDR  eTIV  nWBV  ASF  Delay]          \n",
    "# Exclude Hand (all records are for right handed people), and Delay(more than 25% of the data have NaN values)\n",
    "\n",
    "X = array[:,[1, 3, 4, 5, 6, 8, 9, 10]]\n",
    "#X = array[:,[3, 6, 8, 9]] #Feature Extraction with RFE\n",
    "#Y_float64 = array[:,12] # all rows and CDR column used for AUC ROC calculations later\n",
    "Y = array[:,7] # all rows and CDR_Class column\n",
    "Y_float64 = array[:,7] # all rows and CDR column used for AUC ROC calculations later\n",
    "Y=Y.astype(np.str) \n",
    "validation_size = 0.20\n",
    "seed = 123456\n",
    "X_train, X_validation, Y_train, Y_validation = train_test_split(X, Y,\n",
    "test_size=validation_size, random_state=seed)\n",
    "print (X)\n",
    "print (Y)"
   ]
  },
  {
   "cell_type": "markdown",
   "metadata": {},
   "source": [
    "### Algorithms and Techniques\n",
    "\n",
    "(Reference 24)\n",
    "\n",
    "#### Spot Check Algorithms\n",
    "\n",
    "We will evaluate eight different algorithms:\n",
    "\n",
    " Logistic Regression (LR).\n",
    "\n",
    " k-Nearest Neighbors (KNN).\n",
    "\n",
    " Classification and Regression Trees (CART).\n",
    "\n",
    " Gaussian Naive Bayes (NB).\n",
    "\n",
    " Support Vector Machines (SVM).\n",
    "\n",
    " Gradient Boosting Machine (GBM).\n",
    "\n",
    " Random Forest (RF).\n",
    "\n",
    "This list is a good mixture of simple linear (LR), and nonlinear (KNN, CART, NB\n",
    "and SVM) algorithms. We reset the random number seed before each run to ensure that the\n",
    "evaluation of each algorithm is performed using exactly the same data splits. It ensures the\n",
    "results are directly comparable. Let's build and evaluate our six models:\n",
    "\n"
   ]
  },
  {
   "cell_type": "code",
   "execution_count": 43,
   "metadata": {},
   "outputs": [
    {
     "name": "stdout",
     "output_type": "stream",
     "text": [
      "( Model,  Cross-Validation Accuracy: Mean, Stdev )\n",
      "('LR', '0.74', '0.07')\n",
      "('KNN', '0.60', '0.05')\n",
      "('CART', '0.76', '0.06')\n",
      "('NB', '0.76', '0.08')\n",
      "('SVM', '0.59', '0.07')\n",
      "('GBM', '0.82', '0.07')\n",
      "('RFC', '0.81', '0.07')\n"
     ]
    }
   ],
   "source": [
    "# Spot-Check Algorithms\n",
    "models = []\n",
    "models.append(('LR', LogisticRegression()))\n",
    "#models.append(('LDA', LinearDiscriminantAnalysis()))\n",
    "models.append(('KNN', KNeighborsClassifier()))\n",
    "models.append(('CART', DecisionTreeClassifier()))\n",
    "models.append(('NB', GaussianNB()))\n",
    "models.append(('SVM', SVC()))\n",
    "models.append(('GBM', GradientBoostingClassifier()))\n",
    "models.append(('RFC', RandomForestClassifier()))\n",
    "# evaluate each model in turn\n",
    "results = []\n",
    "names = []\n",
    "print('(', 'Model, ', 'Cross-Validation Accuracy: Mean, Stdev',')')\n",
    "for name, model in models:\n",
    "    kfold = KFold(n_splits=10, random_state=seed)\n",
    "    cv_results = cross_val_score(model, X_train, Y_train, cv=kfold, scoring='accuracy')\n",
    "    results.append(cv_results)\n",
    "    names.append(name)\n",
    "    msg = (name, format(cv_results.mean(), '.2f'), format(cv_results.std(), '.2f'))\n",
    "    print(msg)"
   ]
  },
  {
   "cell_type": "code",
   "execution_count": 44,
   "metadata": {},
   "outputs": [
    {
     "name": "stdout",
     "output_type": "stream",
     "text": [
      "0.802631578947\n",
      "0.745614035088\n"
     ]
    }
   ],
   "source": [
    "from sklearn.ensemble import RandomForestClassifier\n",
    "classifier = RandomForestClassifier(max_depth=4)\n",
    "classifier.fit(X_train, Y_train)\n",
    "X_test = X_validation\n",
    "Y_test = Y_validation\n",
    "prediction = classifier.predict(X_test)\n",
    "print (classifier.score(X_train, Y_train))\n",
    "print (classifier.score(X_test, Y_test))"
   ]
  },
  {
   "cell_type": "code",
   "execution_count": 45,
   "metadata": {},
   "outputs": [
    {
     "name": "stdout",
     "output_type": "stream",
     "text": [
      "0.991228070175\n",
      "0.745614035088\n"
     ]
    }
   ],
   "source": [
    "from sklearn.ensemble import GradientBoostingClassifier\n",
    "classifier = GradientBoostingClassifier(max_depth=3)\n",
    "classifier.fit(X_train, Y_train)\n",
    "X_test = X_validation\n",
    "Y_test = Y_validation\n",
    "prediction = classifier.predict(X_test)\n",
    "print (classifier.score(X_train, Y_train))\n",
    "print (classifier.score(X_test, Y_test))"
   ]
  },
  {
   "cell_type": "markdown",
   "metadata": {},
   "source": [
    "(from Brownlee Book) Using a 10-fold cross-validation to estimate accuracy. This splits the dataset into 10\n",
    "parts. Train on 9 parts and test on 1 part. Repeat for all combinations of train-test splits. Using\n",
    "the metric of accuracy to evaluate models. This is a ratio of the number of correctly predicted\n",
    "instances divided by the total number of instances in the dataset multiplied by 100 to give a\n",
    "percentage (e.g. 95% accurate). Using the scoring variable when we run build and\n",
    "evaluate each model next."
   ]
  },
  {
   "cell_type": "code",
   "execution_count": 46,
   "metadata": {},
   "outputs": [
    {
     "data": {
      "image/png": "[encoded data removed]",
      "text/plain": [
       "<matplotlib.figure.Figure at 0x207a61cba20>"
      ]
     },
     "metadata": {},
     "output_type": "display_data"
    }
   ],
   "source": [
    "# Compare Algorithms\n",
    "fig = pyplot.figure()\n",
    "fig.suptitle('Algorithm Comparison')\n",
    "ax = fig.add_subplot(111)\n",
    "pyplot.boxplot(results)\n",
    "ax.set_xticklabels(names)\n",
    "pyplot.show();"
   ]
  },
  {
   "cell_type": "markdown",
   "metadata": {},
   "source": [
    "We see fromthe above plots see that GBM and RFC have higher accuracies than other algorithms, followed by LR, NB, and CART. These model evaluation results compare the spread and the mean accuracy of each model. There is a population of accuracy measures for each algorithm because each algorithm was evaluated 10 times (10 fold cross-validation)."
   ]
  },
  {
   "cell_type": "code",
   "execution_count": 47,
   "metadata": {
    "scrolled": false
   },
   "outputs": [
    {
     "name": "stdout",
     "output_type": "stream",
     "text": [
      "*Accuracy score:  0.745614035088 \n",
      "\n",
      "*Confusion Matrix: \n",
      "[[58 10  0  0]\n",
      " [11 20  4  0]\n",
      " [ 1  2  7  0]\n",
      " [ 0  0  1  0]]\n",
      "*Classification Report: \n",
      "             precision    recall  f1-score   support\n",
      "\n",
      "        0.0       0.83      0.85      0.84        68\n",
      "        0.5       0.62      0.57      0.60        35\n",
      "        1.0       0.58      0.70      0.64        10\n",
      "        2.0       0.00      0.00      0.00         1\n",
      "\n",
      "avg / total       0.74      0.75      0.74       114\n",
      "\n"
     ]
    },
    {
     "name": "stderr",
     "output_type": "stream",
     "text": [
      "C:\\Users\\MD\\Anaconda3\\envs\\dlnd\\lib\\site-packages\\sklearn\\metrics\\classification.py:1135: UndefinedMetricWarning: Precision and F-score are ill-defined and being set to 0.0 in labels with no predicted samples.\n",
      "  'precision', 'predicted', average, warn_for)\n"
     ]
    }
   ],
   "source": [
    "# Make predictions on validation dataset using the RandomForestClassifier\n",
    "\n",
    "from sklearn.ensemble import GradientBoostingClassifier\n",
    "GBM=GradientBoostingClassifier()\n",
    "GBM.fit(X_train, Y_train)\n",
    "predictions = GBM.predict(X_validation)\n",
    "print(\"*Accuracy score: \", accuracy_score(Y_validation, predictions), \"\\n\")\n",
    "print(\"*Confusion Matrix: \")\n",
    "print(confusion_matrix(Y_validation, predictions))\n",
    "print(\"*Classification Report: \")\n",
    "print(classification_report(Y_validation, predictions))"
   ]
  },
  {
   "cell_type": "code",
   "execution_count": 48,
   "metadata": {},
   "outputs": [
    {
     "name": "stdout",
     "output_type": "stream",
     "text": [
      "*Accuracy score for GBM:  0.745614035088 \n",
      "\n",
      "*Confusion Matrix for GBM: \n",
      "[[58 10  0  0]\n",
      " [11 20  4  0]\n",
      " [ 1  2  7  0]\n",
      " [ 0  0  1  0]]\n",
      "*Classification Report for GBM: \n",
      "             precision    recall  f1-score   support\n",
      "\n",
      "        0.0       0.83      0.85      0.84        68\n",
      "        0.5       0.62      0.57      0.60        35\n",
      "        1.0       0.58      0.70      0.64        10\n",
      "        2.0       0.00      0.00      0.00         1\n",
      "\n",
      "avg / total       0.74      0.75      0.74       114\n",
      "\n"
     ]
    },
    {
     "name": "stderr",
     "output_type": "stream",
     "text": [
      "C:\\Users\\MD\\Anaconda3\\envs\\dlnd\\lib\\site-packages\\sklearn\\metrics\\classification.py:1135: UndefinedMetricWarning: Precision and F-score are ill-defined and being set to 0.0 in labels with no predicted samples.\n",
      "  'precision', 'predicted', average, warn_for)\n"
     ]
    }
   ],
   "source": [
    "# Make predictions on validation dataset using GradientBoostingClassifier\n",
    "from sklearn.ensemble import GradientBoostingClassifier\n",
    "GBM = GradientBoostingClassifier()\n",
    "GBM.fit(X_train, Y_train)\n",
    "predictions = GBM.predict(X_validation)\n",
    "print(\"*Accuracy score for GBM: \", accuracy_score(Y_validation, predictions), \"\\n\")\n",
    "print(\"*Confusion Matrix for GBM: \")\n",
    "print(confusion_matrix(Y_validation, predictions))\n",
    "print(\"*Classification Report for GBM: \")\n",
    "print(classification_report(Y_validation, predictions))"
   ]
  },
  {
   "cell_type": "markdown",
   "metadata": {},
   "source": [
    "Accuracy score is (number of true positives + number of true negatives)/total number of data points in the dataset.\n",
    "\n",
    "By definition a confusion matrix C is such that element C_{i, j} is equal to the number of observations known to be in group i but predicted to be in group j.\n",
    "\n",
    "Thus in binary classification, the count of true negatives is C_{0,0}, false negatives is C_{1,0}, true positives is C_{1,1} and false positives is C_{0,1}.\n",
    "\n",
    "The f1-score the harmonic mean of precision and recall. The scores corresponding to every class will tell you the accuracy of the classifier in classifying the data points in that particular class compared to all other classes.\n",
    "\n",
    "The support is the number of samples of the true response that lie in that class. The total support should equal the number of datapoints in the test set."
   ]
  },
  {
   "cell_type": "markdown",
   "metadata": {},
   "source": [
    "##### Because there are very few records with CDR=2, the validation set picked up only one record (see support=1 value for the CDR=2 case in the Classification Report ), and there was no predicted sample for this label . Hence the metrics( precision, recall, F-Score are all zero for CDR=2 label. "
   ]
  },
  {
   "cell_type": "code",
   "execution_count": 49,
   "metadata": {},
   "outputs": [
    {
     "name": "stdout",
     "output_type": "stream",
     "text": [
      "0.770175438596\n"
     ]
    }
   ],
   "source": [
    "# Create a PIPELINE that extracts features from the data then creates a model (from Reference 24, 26)\n",
    "# Uses GradientBoostingClassifier\n",
    "from sklearn.model_selection import KFold\n",
    "from sklearn.model_selection import cross_val_score\n",
    "from sklearn.pipeline import Pipeline\n",
    "from sklearn.pipeline import FeatureUnion\n",
    "from sklearn.ensemble import GradientBoostingClassifier\n",
    "from sklearn.decomposition import PCA\n",
    "from sklearn.feature_selection import SelectKBest\n",
    "# X, Y as defined/calculated previously\n",
    "# create feature union\n",
    "features = []\n",
    "features.append(('pca', PCA(n_components=3)))\n",
    "features.append(('select_best', SelectKBest(k=4)))\n",
    "feature_union = FeatureUnion(features)\n",
    "# create pipeline\n",
    "estimators = []\n",
    "estimators.append(('feature_union', feature_union))\n",
    "estimators.append(('GBC', GradientBoostingClassifier()))\n",
    "model = Pipeline(estimators)\n",
    "# evaluate pipeline\n",
    "kfold = KFold(n_splits=10, random_state=899)\n",
    "results = cross_val_score(model, X, Y, cv=kfold)\n",
    "print(results.mean())"
   ]
  },
  {
   "cell_type": "markdown",
   "metadata": {},
   "source": [
    "### Recursive Feature Elimination\n",
    "(Reference 24)\n",
    "The Recursive Feature Elimination (or RFE) works by recursively removing attributes and\n",
    "building a model on those attributes that remain. It uses the model accuracy to identify which\n",
    "http://scikit-learn.org/stable/modules/generated/sklearn.feature_selection.SelectKBest.html#sklearn.feature_selection.SelectKBest\n",
    "\n",
    "attributes (and combination of attributes) contribute the most to predicting the target attribute.\n",
    "You can learn more about the RFE class in the scikit-learn documentation. The example below\n",
    "uses RFE with the logistic regression algorithm to select the top 3 features. The choice of\n",
    "algorithm does not matter too much as long as it is skillful and consistent.\n",
    "We see columns Age, SES, MMSE are the top three featutes"
   ]
  },
  {
   "cell_type": "code",
   "execution_count": 50,
   "metadata": {},
   "outputs": [
    {
     "name": "stdout",
     "output_type": "stream",
     "text": [
      "Num Features: 3\n",
      "Selected Features: [False False False False  True  True  True False]\n",
      "Feature Ranking: [4 2 5 6 1 1 1 3]\n"
     ]
    }
   ],
   "source": [
    "# Feature Extraction with RFE\n",
    "from sklearn.feature_selection import RFE\n",
    "from sklearn.linear_model import LogisticRegression\n",
    "# feature extraction\n",
    "model = DecisionTreeClassifier()\n",
    "rfe = RFE(model, 3)\n",
    "fit = rfe.fit(X, Y)\n",
    "print(\"Num Features: %d\" % fit.n_features_)\n",
    "print(\"Selected Features: %s\" % fit.support_)\n",
    "print(\"Feature Ranking: %s\" % fit.ranking_)"
   ]
  },
  {
   "cell_type": "markdown",
   "metadata": {},
   "source": [
    "### Principal Component Analysis\n",
    "Principal Component Analysis (or PCA) uses linear algebra to transform the dataset into a\n",
    "compressed form. Generally this is called a data reduction technique. A property of PCA is that\n",
    "we can choose the number of dimensions or principal components in the transformed result. In\n",
    "the example below, we use PCA and select 3 principal components. "
   ]
  },
  {
   "cell_type": "code",
   "execution_count": 51,
   "metadata": {},
   "outputs": [
    {
     "name": "stdout",
     "output_type": "stream",
     "text": [
      "Explained Variance: [ 0.99488306  0.00346391  0.00118106]\n",
      "[[ -1.63525903e-03   3.33704766e-03   6.28458741e-03  -1.54868537e-03\n",
      "   -3.21063218e-04   9.99971792e-01  -5.60520444e-05  -7.77833362e-04]\n",
      " [ -1.52943466e-03  -9.87638014e-01  -1.51568583e-01  -4.47623170e-03\n",
      "    3.93677660e-02   4.25175111e-03   2.79895794e-03  -9.39644552e-05]\n",
      " [  1.51149687e-03   1.45435084e-01  -9.80433825e-01   5.54117703e-02\n",
      "   -1.20384981e-01   5.72592463e-03  -1.70377294e-04  -2.07631309e-04]]\n"
     ]
    }
   ],
   "source": [
    "# Feature Extraction with PCA\n",
    "from sklearn.decomposition import PCA\n",
    "# feature extraction\n",
    "pca = PCA(n_components=3)\n",
    "fit = pca.fit(X)\n",
    "# summarize components\n",
    "print(\"Explained Variance: %s\" % fit.explained_variance_ratio_)\n",
    "print(fit.components_)"
   ]
  },
  {
   "cell_type": "markdown",
   "metadata": {},
   "source": [
    "## Appendix 2: Append CDR=2 data from the dataset to increase CDR=2 count"
   ]
  },
  {
   "cell_type": "markdown",
   "metadata": {},
   "source": [
    "We saw previously that the number of records in the combined cross-sectional and longitudinal MRI datasets is only 5. Therefore, in the 20% of the data set aside for validation, the probability of having records with label CDR=2 is quite small. Correspondingly, in the metrics for the Gradient Boosting (GBM) and Random Forest (RFC) classsifiers, the accuracy, precision, recall, and f-score are very low for the label CDR=2. In this sensitivity study we append to the combined dataset, the records for CDR=2 two more times to artificially increase CDR=2 record count to 15 from 5. As we see below, the classification metrics for this multi-label sensitivity case have improved significantly.   "
   ]
  },
  {
   "cell_type": "code",
   "execution_count": 52,
   "metadata": {
    "collapsed": true
   },
   "outputs": [],
   "source": [
    "dfoas_merge_CDR2 = dfoas_merge[(dfoas_merge.CDR == 2)]\n",
    "dfoas_merge_CDR22=dfoas_merge.append(dfoas_merge_CDR2, ignore_index=True)\n",
    "dfoas_merge_CDR23=dfoas_merge_CDR22.append(dfoas_merge_CDR2, ignore_index=True)"
   ]
  },
  {
   "cell_type": "code",
   "execution_count": 53,
   "metadata": {},
   "outputs": [
    {
     "name": "stdout",
     "output_type": "stream",
     "text": [
      "<class 'pandas.core.frame.DataFrame'>\n",
      "RangeIndex: 580 entries, 0 to 579\n",
      "Data columns (total 12 columns):\n",
      "ID       580 non-null object\n",
      "M/F      580 non-null int64\n",
      "Hand     580 non-null object\n",
      "Age      580 non-null int64\n",
      "Educ     580 non-null float64\n",
      "SES      580 non-null float64\n",
      "MMSE     580 non-null float64\n",
      "CDR      580 non-null float64\n",
      "eTIV     580 non-null int64\n",
      "nWBV     580 non-null float64\n",
      "ASF      580 non-null float64\n",
      "Delay    580 non-null float64\n",
      "dtypes: float64(7), int64(3), object(2)\n",
      "memory usage: 54.5+ KB\n"
     ]
    }
   ],
   "source": [
    "dfoas_merge_CDR23.info()"
   ]
  },
  {
   "cell_type": "code",
   "execution_count": 54,
   "metadata": {},
   "outputs": [
    {
     "name": "stdout",
     "output_type": "stream",
     "text": [
      "[[1 74 2.0 ..., 1344 0.743 1.306]\n",
      " [1 55 4.0 ..., 1147 0.81 1.531]\n",
      " [1 73 4.0 ..., 1454 0.708 1.207]\n",
      " ..., \n",
      " [1 98 17.0 ..., 1503 0.66 1.168]\n",
      " [1 78 14.0 ..., 1401 0.7 1.253]\n",
      " [0 79 20.0 ..., 1710 0.76 1.026]]\n",
      "['0.0' '0.0' '0.5' '0.0' '0.0' '0.0' '0.5' '0.0' '0.0' '0.0' '0.5' '0.5'\n",
      " '0.5' '0.0' '1.0' '0.0' '1.0' '0.0' '0.0' '0.0' '1.0' '0.5' '0.5' '0.0'\n",
      " '1.0' '1.0' '1.0' '0.0' '0.0' '0.0' '0.0' '0.5' '1.0' '0.0' '0.0' '0.0'\n",
      " '0.0' '0.0' '1.0' '0.0' '0.0' '0.5' '0.0' '0.0' '0.0' '0.5' '0.0' '0.0'\n",
      " '0.0' '0.0' '0.0' '0.0' '0.0' '0.5' '0.0' '0.5' '1.0' '0.5' '0.0' '0.0'\n",
      " '1.0' '0.0' '1.0' '0.0' '0.0' '0.5' '0.5' '0.0' '0.0' '0.5' '0.5' '0.5'\n",
      " '0.0' '0.0' '0.0' '0.0' '0.0' '0.5' '0.0' '0.0' '1.0' '0.0' '0.0' '0.0'\n",
      " '0.0' '0.0' '0.0' '0.0' '0.0' '0.0' '0.5' '0.0' '0.0' '0.0' '0.5' '0.0'\n",
      " '0.5' '0.0' '0.0' '0.5' '0.0' '0.0' '0.5' '0.0' '0.0' '0.5' '0.0' '0.5'\n",
      " '0.0' '0.5' '0.0' '0.0' '0.0' '0.0' '0.0' '0.0' '0.5' '0.0' '0.5' '1.0'\n",
      " '1.0' '0.0' '0.0' '0.5' '0.5' '0.0' '1.0' '0.0' '0.0' '0.0' '0.5' '0.5'\n",
      " '0.5' '0.0' '0.5' '1.0' '0.0' '0.0' '0.5' '0.0' '0.5' '0.0' '0.0' '0.5'\n",
      " '0.5' '2.0' '0.0' '0.5' '1.0' '0.0' '0.0' '0.0' '0.0' '0.5' '0.0' '0.0'\n",
      " '0.5' '0.0' '0.0' '0.0' '0.0' '0.0' '0.0' '2.0' '0.5' '0.0' '0.0' '0.0'\n",
      " '0.0' '0.0' '0.0' '0.0' '0.0' '0.0' '0.0' '0.0' '0.0' '1.0' '0.5' '0.0'\n",
      " '0.5' '0.0' '1.0' '0.5' '0.0' '0.5' '0.0' '0.5' '0.0' '1.0' '0.5' '0.5'\n",
      " '0.0' '0.0' '1.0' '1.0' '0.0' '0.0' '1.0' '0.5' '0.0' '0.0' '0.5' '0.5'\n",
      " '0.0' '0.0' '0.0' '0.5' '0.0' '0.5' '1.0' '0.5' '0.5' '0.0' '0.0' '0.0'\n",
      " '0.0' '0.0' '0.0' '0.0' '0.0' '0.5' '0.0' '0.0' '0.0' '0.5' '0.5' '0.5'\n",
      " '0.5' '0.0' '0.0' '0.0' '0.0' '0.0' '0.0' '0.5' '1.0' '0.5' '0.5' '0.0'\n",
      " '0.5' '0.0' '0.0' '0.0' '0.0' '0.5' '0.0' '0.5' '0.5' '0.5' '0.5' '0.0'\n",
      " '0.0' '0.5' '0.5' '0.5' '0.5' '0.0' '0.0' '0.0' '0.0' '0.5' '1.0' '0.0'\n",
      " '0.0' '0.0' '0.0' '0.0' '0.0' '0.5' '0.5' '0.5' '0.0' '0.0' '0.0' '0.0'\n",
      " '0.0' '0.0' '0.0' '0.0' '0.0' '0.0' '0.5' '0.5' '0.5' '0.5' '0.5' '0.5'\n",
      " '0.5' '0.5' '0.5' '0.0' '0.0' '0.5' '0.0' '0.0' '0.5' '0.5' '1.0' '1.0'\n",
      " '1.0' '0.0' '0.0' '0.5' '1.0' '0.0' '0.0' '1.0' '1.0' '1.0' '1.0' '1.0'\n",
      " '0.0' '0.0' '0.0' '0.5' '1.0' '0.0' '0.0' '0.0' '0.0' '0.0' '0.0' '0.0'\n",
      " '0.0' '0.5' '0.0' '0.0' '0.0' '0.0' '0.0' '0.0' '0.0' '0.5' '0.5' '0.5'\n",
      " '0.5' '0.5' '0.0' '0.0' '0.0' '0.0' '0.0' '0.0' '1.0' '0.5' '0.5' '1.0'\n",
      " '0.5' '0.0' '0.0' '0.0' '0.0' '0.0' '0.0' '0.0' '0.0' '0.0' '0.0' '0.0'\n",
      " '0.0' '0.0' '1.0' '1.0' '0.0' '0.0' '0.0' '0.0' '0.0' '0.5' '0.5' '0.0'\n",
      " '0.0' '0.0' '0.0' '0.0' '0.0' '0.0' '0.0' '0.5' '1.0' '1.0' '0.5' '0.5'\n",
      " '0.5' '0.5' '0.5' '0.0' '0.0' '0.0' '0.0' '1.0' '2.0' '1.0' '1.0' '0.5'\n",
      " '1.0' '0.0' '0.0' '0.0' '0.0' '0.0' '0.0' '0.5' '0.0' '0.0' '0.0' '0.0'\n",
      " '0.0' '0.0' '0.0' '0.0' '0.0' '0.5' '0.5' '0.0' '0.0' '0.0' '0.0' '0.0'\n",
      " '0.0' '0.5' '0.5' '0.5' '0.0' '0.5' '0.5' '0.5' '1.0' '0.0' '0.0' '1.0'\n",
      " '1.0' '0.5' '0.5' '0.0' '0.0' '0.5' '0.5' '0.5' '0.5' '0.5' '0.5' '0.5'\n",
      " '0.5' '0.0' '0.0' '0.0' '0.0' '0.0' '0.5' '0.0' '0.0' '0.0' '1.0' '2.0'\n",
      " '0.0' '0.0' '0.0' '0.0' '0.5' '0.5' '0.0' '0.0' '0.0' '0.0' '0.5' '0.5'\n",
      " '0.5' '0.5' '0.0' '0.0' '0.0' '0.0' '0.0' '0.5' '0.0' '0.0' '0.5' '0.5'\n",
      " '0.5' '0.0' '0.0' '0.5' '0.5' '0.0' '0.0' '0.5' '0.5' '0.5' '0.5' '0.5'\n",
      " '0.0' '0.0' '0.0' '0.0' '0.0' '0.0' '0.0' '0.0' '0.5' '0.0' '0.5' '1.0'\n",
      " '1.0' '0.0' '0.0' '0.0' '0.0' '0.0' '0.0' '0.5' '1.0' '0.0' '0.0' '0.0'\n",
      " '0.0' '0.0' '0.0' '0.0' '1.0' '1.0' '0.0' '0.0' '0.5' '0.5' '0.0' '0.0'\n",
      " '0.0' '0.5' '0.5' '1.0' '2.0' '1.0' '1.0' '0.0' '0.0' '0.0' '0.0' '0.0'\n",
      " '0.5' '0.5' '0.0' '0.0' '0.0' '0.5' '0.5' '0.5' '0.0' '0.0' '0.5' '0.0'\n",
      " '0.0' '0.0' '0.0' '0.0' '0.5' '0.5' '0.0' '0.0' '0.0' '0.0' '0.5' '1.0'\n",
      " '0.5' '0.5' '0.5' '0.0' '0.0' '0.0' '2.0' '2.0' '2.0' '2.0' '2.0' '2.0'\n",
      " '2.0' '2.0' '2.0' '2.0']\n"
     ]
    }
   ],
   "source": [
    "# Split the dataset into a training set and a validation set\n",
    "#Create an array from the dataset column values\n",
    "array = dfoas_merge_CDR23.values\n",
    "#X = array[:,[1, 3, 4, 5, 6, 8, 9, 10]] Backup/extra\n",
    "# Array indices 1 through 11 refer to the following features:\n",
    "# [M/F  Hand  Age  Educ  SES  MMSE  CDR  eTIV  nWBV  ASF  Delay]          \n",
    "# Exclude Hand (all records are for right handed people), and Delay(more than 25% of the data have NaN values)\n",
    "\n",
    "X = array[:,[1, 3, 4, 5, 6, 8, 9, 10]]\n",
    "#X = array[:,[3, 6, 8, 9]] #Feature Extraction with RFE\n",
    "#Y_float64 = array[:,12] # all rows and CDR column used for AUC ROC calculations later\n",
    "Y = array[:,7] # all rows and CDR_Class column\n",
    "Y_float64 = array[:,7] # all rows and CDR column used for AUC ROC calculations later\n",
    "Y=Y.astype(np.str) \n",
    "validation_size = 0.20\n",
    "seed = 123456\n",
    "X_train, X_validation, Y_train, Y_validation = train_test_split(X, Y,\n",
    "test_size=validation_size, random_state=seed)\n",
    "print (X)\n",
    "print (Y)"
   ]
  },
  {
   "cell_type": "code",
   "execution_count": 55,
   "metadata": {},
   "outputs": [
    {
     "name": "stdout",
     "output_type": "stream",
     "text": [
      "*Accuracy score for GBM:  0.810344827586 \n",
      "\n",
      "*Confusion Matrix for GBM: \n",
      "[[62  3  0  0]\n",
      " [14 22  1  0]\n",
      " [ 0  2  8  2]\n",
      " [ 0  0  0  2]]\n",
      "*Classification Report for GBM: \n",
      "             precision    recall  f1-score   support\n",
      "\n",
      "        0.0       0.82      0.95      0.88        65\n",
      "        0.5       0.81      0.59      0.69        37\n",
      "        1.0       0.89      0.67      0.76        12\n",
      "        2.0       0.50      1.00      0.67         2\n",
      "\n",
      "avg / total       0.82      0.81      0.80       116\n",
      "\n"
     ]
    }
   ],
   "source": [
    "# Make predictions on validation dataset using GradientBoostingClassifier\n",
    "from sklearn.ensemble import GradientBoostingClassifier\n",
    "GBM = GradientBoostingClassifier()\n",
    "GBM.fit(X_train, Y_train)\n",
    "predictions = GBM.predict(X_validation)\n",
    "print(\"*Accuracy score for GBM: \", accuracy_score(Y_validation, predictions), \"\\n\")\n",
    "print(\"*Confusion Matrix for GBM: \")\n",
    "print(confusion_matrix(Y_validation, predictions))\n",
    "print(\"*Classification Report for GBM: \")\n",
    "print(classification_report(Y_validation, predictions))"
   ]
  },
  {
   "cell_type": "code",
   "execution_count": null,
   "metadata": {
    "collapsed": true
   },
   "outputs": [],
   "source": []
  }
 ],
 "metadata": {
  "kernelspec": {
   "display_name": "Python 3",
   "language": "python",
   "name": "python3"
  },
  "language_info": {
   "codemirror_mode": {
    "name": "ipython",
    "version": 3
   },
   "file_extension": ".py",
   "mimetype": "text/x-python",
   "name": "python",
   "nbconvert_exporter": "python",
   "pygments_lexer": "ipython3",
   "version": "3.6.1"
  }
 },
 "nbformat": 4,
 "nbformat_minor": 1
}
